{
 "cells": [
  {
   "cell_type": "markdown",
   "metadata": {},
   "source": [
    "The first step of model will be to set up the computer vision model that enable us to recognize the number of cars within the image."
   ]
  },
  {
   "cell_type": "code",
   "execution_count": null,
   "metadata": {},
   "outputs": [
    {
     "name": "stdout",
     "output_type": "stream",
     "text": [
      "Collecting cvlib==0.2.2\n",
      "  Downloading cvlib-0.2.2.tar.gz (10.0 MB)\n",
      "\u001b[K     |████████████████████████████████| 10.0 MB 10.8 MB/s eta 0:00:01\n",
      "\u001b[?25hRequirement already satisfied: numpy in /opt/anaconda3/lib/python3.8/site-packages (from cvlib==0.2.2) (1.20.1)\n",
      "Collecting progressbar\n",
      "  Using cached progressbar-2.5-py3-none-any.whl\n",
      "Requirement already satisfied: requests in /opt/anaconda3/lib/python3.8/site-packages (from cvlib==0.2.2) (2.25.1)\n",
      "Requirement already satisfied: pillow in /opt/anaconda3/lib/python3.8/site-packages (from cvlib==0.2.2) (8.2.0)\n",
      "Collecting keras\n",
      "  Using cached keras-2.7.0-py2.py3-none-any.whl (1.3 MB)\n",
      "Requirement already satisfied: imageio in /opt/anaconda3/lib/python3.8/site-packages (from cvlib==0.2.2) (2.9.0)\n",
      "Collecting imutils\n",
      "  Using cached imutils-0.5.4-py3-none-any.whl\n",
      "Requirement already satisfied: urllib3<1.27,>=1.21.1 in /opt/anaconda3/lib/python3.8/site-packages (from requests->cvlib==0.2.2) (1.26.4)\n",
      "Requirement already satisfied: chardet<5,>=3.0.2 in /opt/anaconda3/lib/python3.8/site-packages (from requests->cvlib==0.2.2) (4.0.0)\n",
      "Requirement already satisfied: idna<3,>=2.5 in /opt/anaconda3/lib/python3.8/site-packages (from requests->cvlib==0.2.2) (2.10)\n",
      "Requirement already satisfied: certifi>=2017.4.17 in /opt/anaconda3/lib/python3.8/site-packages (from requests->cvlib==0.2.2) (2020.12.5)\n",
      "Building wheels for collected packages: cvlib\n",
      "  Building wheel for cvlib (setup.py) ... \u001b[?25ldone\n",
      "\u001b[?25h  Created wheel for cvlib: filename=cvlib-0.2.2-py3-none-any.whl size=10043359 sha256=b78c72a77b2501ba7810239cf26dc48fcafbf6779fc9ff6e2e3731df82820c47\n",
      "  Stored in directory: /Users/ethansu/Library/Caches/pip/wheels/0c/02/92/3d4614347567307c191091a664c2ecd97dd8caefe205cfd171\n",
      "Successfully built cvlib\n",
      "Installing collected packages: progressbar, keras, imutils, cvlib\n",
      "Successfully installed cvlib-0.2.2 imutils-0.5.4 keras-2.7.0 progressbar-2.5\n",
      "Note: you may need to restart the kernel to use updated packages.\n",
      "\u001b[31mERROR: Could not find a version that satisfies the requirement opencv-python==4.1.1.26\u001b[0m\n",
      "\u001b[31mERROR: No matching distribution found for opencv-python==4.1.1.26\u001b[0m\n",
      "Note: you may need to restart the kernel to use updated packages.\n",
      "\u001b[31mERROR: Could not find a version that satisfies the requirement tensorflow==1.14.0\u001b[0m\n",
      "\u001b[31mERROR: No matching distribution found for tensorflow==1.14.0\u001b[0m\n",
      "Note: you may need to restart the kernel to use updated packages.\n",
      "Collecting matplotlib==3.1.1\n",
      "  Downloading matplotlib-3.1.1.tar.gz (37.8 MB)\n",
      "\u001b[K     |████████████████████████████████| 37.8 MB 13.8 MB/s eta 0:00:01\n",
      "\u001b[?25hRequirement already satisfied: cycler>=0.10 in /opt/anaconda3/lib/python3.8/site-packages (from matplotlib==3.1.1) (0.10.0)\n",
      "Requirement already satisfied: kiwisolver>=1.0.1 in /opt/anaconda3/lib/python3.8/site-packages (from matplotlib==3.1.1) (1.3.1)\n",
      "Requirement already satisfied: pyparsing!=2.0.4,!=2.1.2,!=2.1.6,>=2.0.1 in /opt/anaconda3/lib/python3.8/site-packages (from matplotlib==3.1.1) (2.4.7)\n",
      "Requirement already satisfied: python-dateutil>=2.1 in /opt/anaconda3/lib/python3.8/site-packages (from matplotlib==3.1.1) (2.8.1)\n",
      "Requirement already satisfied: numpy>=1.11 in /opt/anaconda3/lib/python3.8/site-packages (from matplotlib==3.1.1) (1.20.1)\n",
      "Requirement already satisfied: six in /Users/ethansu/.local/lib/python3.8/site-packages (from cycler>=0.10->matplotlib==3.1.1) (1.16.0)\n",
      "Building wheels for collected packages: matplotlib\n",
      "  Building wheel for matplotlib (setup.py) ... \u001b[?25l/"
     ]
    }
   ],
   "source": [
    "%pip install cvlib==0.2.2\n",
    "%pip install opencv-python==4.1.1.26\n",
    "%pip install tensorflow==1.14.0\n",
    "%pip install matplotlib==3.1.1\n",
    "%pip install Keras==2.2.5"
   ]
  },
  {
   "cell_type": "code",
   "execution_count": 1,
   "metadata": {},
   "outputs": [],
   "source": [
    "import matplotlib.pyplot as plt\n",
    "import cvlib as cv\n",
    "import cv2\n",
    "import numpy as np\n",
    "import urllib\n",
    "resp = urllib.urlopen('https://images.data.gov.sg/api/traffic-images/2021/12/3df5a205-a39d-4492-b879-246f63e7e054.jpg')\n",
    "image = np.asarray(bytearray(resp.read()), dtype=\"uint8\")\n",
    "image = cv2.imdecode(image, cv2.IMREAD_COLOR)\n",
    "plt.imshow(image)\n",
    "plt.show()\n"
   ]
  }
 ],
 "metadata": {
  "interpreter": {
   "hash": "3ca04efdedbfa320920795ff1d31324fc830821a03498d8e66b8c822a6437d7f"
  },
  "kernelspec": {
   "display_name": "Python 3",
   "language": "python",
   "name": "python3"
  },
  "language_info": {
   "codemirror_mode": {
    "name": "ipython",
    "version": 3
   },
   "file_extension": ".py",
   "mimetype": "text/x-python",
   "name": "python",
   "nbconvert_exporter": "python",
   "pygments_lexer": "ipython3",
   "version": "3.8.8"
  }
 },
 "nbformat": 4,
 "nbformat_minor": 2
}
