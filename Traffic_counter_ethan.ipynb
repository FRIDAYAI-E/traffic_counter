{
  "nbformat": 4,
  "nbformat_minor": 0,
  "metadata": {
    "colab": {
      "name": "Traffic_counter_ethan.ipynb",
      "provenance": [],
      "collapsed_sections": []
    },
    "kernelspec": {
      "name": "python3",
      "display_name": "Python 3"
    },
    "language_info": {
      "name": "python"
    }
  },
  "cells": [
    {
      "cell_type": "code",
      "execution_count": null,
      "metadata": {
        "id": "EGo8fqAnehZ7"
      },
      "outputs": [],
      "source": [
        "#Installation of the necessary library\n",
        "\n",
        "!pip install cvlib==0.2.2\n",
        "!pip install opencv-python==4.1.1.26\n",
        "!pip install tensorflow==1.14.0\n",
        "!pip install matplotlib==3.1.1\n",
        "!pip install Keras==2.2.5\n",
        "!pip install pmdarima==1.8.4"
      ]
    },
    {
      "cell_type": "markdown",
      "source": [
        "## Image Data Extraction - \n",
        "### This section will extract the number of vehicles within each image taken"
      ],
      "metadata": {
        "id": "5d4pqvhjfFx0"
      }
    },
    {
      "cell_type": "code",
      "source": [
        "#Setting up the environment for the analytics to be performed\n",
        "from platform import python_version\n",
        "import tensorflow\n",
        "import keras\n",
        "import cvlib as cv\n",
        "from cvlib.object_detection import draw_bbox\n",
        "import cv2\n",
        "import json\n",
        "import matplotlib.pyplot as plt\n",
        "from PIL import Image\n",
        "import requests\n",
        "import numpy as np\n",
        "import urllib.parse\n",
        "import pandas as pd\n",
        "from requests.models import Response\n",
        "from datetime import datetime, timedelta, timezone\n",
        "\n",
        "print('Python version: {}'.format(python_version()))\n",
        "print('cvlib version: {}'.format(cv.__version__))\n",
        "print('OpenCV version: {}'.format(cv2.__version__))\n",
        "print('Tensorflow version: {}'.format(tensorflow.__version__))\n",
        "print('Keras version: {}'.format(keras.__version__))"
      ],
      "metadata": {
        "colab": {
          "base_uri": "https://localhost:8080/"
        },
        "id": "VHe_LHxXe4z2",
        "outputId": "391b28d1-db25-4232-ba34-cc5c429c0b1d"
      },
      "execution_count": 2,
      "outputs": [
        {
          "output_type": "stream",
          "name": "stderr",
          "text": [
            "/usr/local/lib/python3.7/dist-packages/tensorflow/python/framework/dtypes.py:516: FutureWarning: Passing (type, 1) or '1type' as a synonym of type is deprecated; in a future version of numpy, it will be understood as (type, (1,)) / '(1,)type'.\n",
            "  _np_qint8 = np.dtype([(\"qint8\", np.int8, 1)])\n",
            "/usr/local/lib/python3.7/dist-packages/tensorflow/python/framework/dtypes.py:517: FutureWarning: Passing (type, 1) or '1type' as a synonym of type is deprecated; in a future version of numpy, it will be understood as (type, (1,)) / '(1,)type'.\n",
            "  _np_quint8 = np.dtype([(\"quint8\", np.uint8, 1)])\n",
            "/usr/local/lib/python3.7/dist-packages/tensorflow/python/framework/dtypes.py:518: FutureWarning: Passing (type, 1) or '1type' as a synonym of type is deprecated; in a future version of numpy, it will be understood as (type, (1,)) / '(1,)type'.\n",
            "  _np_qint16 = np.dtype([(\"qint16\", np.int16, 1)])\n",
            "/usr/local/lib/python3.7/dist-packages/tensorflow/python/framework/dtypes.py:519: FutureWarning: Passing (type, 1) or '1type' as a synonym of type is deprecated; in a future version of numpy, it will be understood as (type, (1,)) / '(1,)type'.\n",
            "  _np_quint16 = np.dtype([(\"quint16\", np.uint16, 1)])\n",
            "/usr/local/lib/python3.7/dist-packages/tensorflow/python/framework/dtypes.py:520: FutureWarning: Passing (type, 1) or '1type' as a synonym of type is deprecated; in a future version of numpy, it will be understood as (type, (1,)) / '(1,)type'.\n",
            "  _np_qint32 = np.dtype([(\"qint32\", np.int32, 1)])\n",
            "/usr/local/lib/python3.7/dist-packages/tensorflow/python/framework/dtypes.py:525: FutureWarning: Passing (type, 1) or '1type' as a synonym of type is deprecated; in a future version of numpy, it will be understood as (type, (1,)) / '(1,)type'.\n",
            "  np_resource = np.dtype([(\"resource\", np.ubyte, 1)])\n",
            "/usr/local/lib/python3.7/dist-packages/tensorboard/compat/tensorflow_stub/dtypes.py:541: FutureWarning: Passing (type, 1) or '1type' as a synonym of type is deprecated; in a future version of numpy, it will be understood as (type, (1,)) / '(1,)type'.\n",
            "  _np_qint8 = np.dtype([(\"qint8\", np.int8, 1)])\n",
            "/usr/local/lib/python3.7/dist-packages/tensorboard/compat/tensorflow_stub/dtypes.py:542: FutureWarning: Passing (type, 1) or '1type' as a synonym of type is deprecated; in a future version of numpy, it will be understood as (type, (1,)) / '(1,)type'.\n",
            "  _np_quint8 = np.dtype([(\"quint8\", np.uint8, 1)])\n",
            "/usr/local/lib/python3.7/dist-packages/tensorboard/compat/tensorflow_stub/dtypes.py:543: FutureWarning: Passing (type, 1) or '1type' as a synonym of type is deprecated; in a future version of numpy, it will be understood as (type, (1,)) / '(1,)type'.\n",
            "  _np_qint16 = np.dtype([(\"qint16\", np.int16, 1)])\n",
            "/usr/local/lib/python3.7/dist-packages/tensorboard/compat/tensorflow_stub/dtypes.py:544: FutureWarning: Passing (type, 1) or '1type' as a synonym of type is deprecated; in a future version of numpy, it will be understood as (type, (1,)) / '(1,)type'.\n",
            "  _np_quint16 = np.dtype([(\"quint16\", np.uint16, 1)])\n",
            "/usr/local/lib/python3.7/dist-packages/tensorboard/compat/tensorflow_stub/dtypes.py:545: FutureWarning: Passing (type, 1) or '1type' as a synonym of type is deprecated; in a future version of numpy, it will be understood as (type, (1,)) / '(1,)type'.\n",
            "  _np_qint32 = np.dtype([(\"qint32\", np.int32, 1)])\n",
            "/usr/local/lib/python3.7/dist-packages/tensorboard/compat/tensorflow_stub/dtypes.py:550: FutureWarning: Passing (type, 1) or '1type' as a synonym of type is deprecated; in a future version of numpy, it will be understood as (type, (1,)) / '(1,)type'.\n",
            "  np_resource = np.dtype([(\"resource\", np.ubyte, 1)])\n",
            "Using TensorFlow backend.\n"
          ]
        },
        {
          "output_type": "stream",
          "name": "stdout",
          "text": [
            "Python version: 3.7.12\n",
            "cvlib version: 0.2.2\n",
            "OpenCV version: 4.1.1\n",
            "Tensorflow version: 1.14.0\n",
            "Keras version: 2.2.5\n"
          ]
        }
      ]
    },
    {
      "cell_type": "code",
      "source": [
        "#Image processing function\n",
        "\n",
        "def traffic_counter(image):\n",
        "  bbox, label, conf = cv.detect_common_objects(image, confidence=0.3, nms_thresh=0.3)\n",
        "  #the reason for the confidence to be at 0.3 is to increase the coverage due to poor weather condition that the algorithm will recoginse the vehicles\n",
        "  output_image = draw_bbox(image, bbox, label, conf)\n",
        "  # plt.imshow(output_image)\n",
        "  # plt.show()\n",
        "  print('Number of cars in the image is ' + str(label.count('car')))\n",
        "  print('Number of bus in the image is ' + str(label.count('bus')))\n",
        "  print('Number of truck in the image is ' + str(label.count('truck')))\n",
        "  print('Number of motorcycle in the image is ' + str(label.count('motorcycle')))\n",
        "  car = label.count('car')\n",
        "  bus = label.count('bus')\n",
        "  truck = label.count('truck')\n",
        "  motorcycle = label.count('motorcycle')\n",
        "  return (car, bus, truck, motorcycle)"
      ],
      "metadata": {
        "id": "ZcegUYyFfbY_"
      },
      "execution_count": 3,
      "outputs": []
    },
    {
      "cell_type": "code",
      "source": [
        "#conversion of url images into opencv image\n",
        "\n",
        "#The reason for using PIL in the case is that cv2 is not able to directly read \n",
        "#from the image_url generating from the API calls\n",
        "\n",
        "def url_to_image(url):\n",
        "  im = Image.open(requests.get(url, stream=True).raw).convert('RGB')\n",
        "  # Convert RGB to BGR \n",
        "  opencvImage = cv2.cvtColor(np.array(im), cv2.COLOR_RGB2BGR)\n",
        "  # cv2.imwrite('testing.jpg', opencvImage)\n",
        "  # plt.imshow(im)\n",
        "  # plt.show()\n",
        "  return opencvImage"
      ],
      "metadata": {
        "id": "DlMdivtff3NQ"
      },
      "execution_count": 4,
      "outputs": []
    },
    {
      "cell_type": "code",
      "source": [
        "#this function is to enable us to generate the amount of data we need to collect for the analysis\n",
        "\n",
        "def data_generation(current, days, interval, latitude, longitude):\n",
        "  current_date = current.astimezone(timezone(timedelta(hours=8), name = 'SGT')).replace(microsecond=0)\n",
        "  past_date_week = current_date - timedelta(days = days)\n",
        "  delta = timedelta(minutes=interval) \n",
        "  data = []\n",
        "  df_historical = pd.DataFrame(data, columns=['Date', 'Car', 'Bus', 'Truck','Motorcycle', 'Total']) \n",
        "  while past_date_week <= current_date:\n",
        "      print(\"scanning on date:\", past_date_week)\n",
        "      variable = past_date_week.isoformat()\n",
        "      print(urllib.parse.quote(variable))\n",
        "      new_variable = urllib.parse.quote(variable)\n",
        "      URL = f\"https://api.data.gov.sg/v1/transport/traffic-images?date_time={new_variable}\"\n",
        "      print(URL)\n",
        "      x = requests.get(URL)\n",
        "      todos = json.loads(x.text)\n",
        "      data = todos['items'][0]['cameras']\n",
        "      timestamp = datetime.strptime(todos['items'][0]['timestamp'], \"%Y-%m-%dT%H:%M:%S%z\").strftime('%d-%m-%y %H:%M:%S')\n",
        "      for i in data:\n",
        "        if i['location']['latitude'] == latitude and i['location']['longitude'] == longitude:\n",
        "          # Filename\n",
        "          url_image = i['image']\n",
        "          print(url_image)\n",
        "          image = url_to_image(url_image)\n",
        "          car, bus, truck, motorcycle = traffic_counter(image)\n",
        "          total = car + bus + truck\n",
        "          print('Image process completed')\n",
        "          new_row ={'Date': timestamp, 'Car': car, 'Bus': bus, \"Truck\": truck,\"Motorcycle\": motorcycle, 'Total': total}\n",
        "          df_historical = df_historical.append(new_row, ignore_index=True)\n",
        "          past_date_week += delta\n",
        "      print(\"Current Date, dataset processed\")\n",
        "  return df_historical \n",
        "          "
      ],
      "metadata": {
        "id": "lLW0xhtKgVdx"
      },
      "execution_count": 5,
      "outputs": []
    },
    {
      "cell_type": "code",
      "source": [
        "# Data Generation for analytics\n",
        "\n",
        "#Changable Variables\n",
        "current_date = datetime.now()\n",
        "forecast_period = 3\n",
        "days = 7\n",
        "interval = 30 \n",
        "latitude = 1.357098686\n",
        "longitude = 103.902042\n",
        "\n",
        "df = data_generation(current_date, days, interval, latitude, longitude)\n",
        "#print(df)"
      ],
      "metadata": {
        "id": "8G6lTnvBiMP5"
      },
      "execution_count": null,
      "outputs": []
    },
    {
      "cell_type": "markdown",
      "source": [
        "Till this portion, we will be able to generate the datatable (Univerable Dataset) for future analytics. Subsequently we will be building a univerate forecasting."
      ],
      "metadata": {
        "id": "oDJ4tGGCkJF1"
      }
    },
    {
      "cell_type": "markdown",
      "source": [
        "EDA "
      ],
      "metadata": {
        "id": "7Thxg7Pzk4IW"
      }
    },
    {
      "cell_type": "code",
      "source": [
        "# Setting up the Analytics Library\n",
        "import  statsmodels.api as sm\n",
        "from statsmodels.tsa.statespace.sarimax import SARIMAX\n",
        "from statsmodels.graphics.tsaplots import plot_acf,plot_pacf \n",
        "from statsmodels.tsa.seasonal import seasonal_decompose\n",
        "from statsmodels.tsa.stattools import adfuller,acf, pacf\n",
        "from statsmodels.tsa.api import ExponentialSmoothing, SimpleExpSmoothing, Holt \n",
        "from pmdarima import auto_arima                       \n",
        "from sklearn.metrics import mean_squared_error\n",
        "from statsmodels.tools.eval_measures import rmse\n",
        "import warnings\n",
        "warnings.filterwarnings(\"ignore\")"
      ],
      "metadata": {
        "id": "eJ7Uem17k6wU"
      },
      "execution_count": 7,
      "outputs": []
    },
    {
      "cell_type": "code",
      "source": [
        "df_2 = df[['Date', 'Total']]\n",
        "df_2.Date = pd.to_datetime(df_2.Date)\n",
        "df_2 = df_2.set_index(\"Date\")\n",
        "df_2.index.freq\n",
        "df_2.head()"
      ],
      "metadata": {
        "colab": {
          "base_uri": "https://localhost:8080/",
          "height": 238
        },
        "id": "6vdkDMx4lEVG",
        "outputId": "8f7e7ad6-3c5c-4376-bd4b-0f7d645ab5fc"
      },
      "execution_count": 8,
      "outputs": [
        {
          "output_type": "execute_result",
          "data": {
            "text/html": [
              "\n",
              "  <div id=\"df-43718149-75f1-4e72-841c-0d0e615e9619\">\n",
              "    <div class=\"colab-df-container\">\n",
              "      <div>\n",
              "<style scoped>\n",
              "    .dataframe tbody tr th:only-of-type {\n",
              "        vertical-align: middle;\n",
              "    }\n",
              "\n",
              "    .dataframe tbody tr th {\n",
              "        vertical-align: top;\n",
              "    }\n",
              "\n",
              "    .dataframe thead th {\n",
              "        text-align: right;\n",
              "    }\n",
              "</style>\n",
              "<table border=\"1\" class=\"dataframe\">\n",
              "  <thead>\n",
              "    <tr style=\"text-align: right;\">\n",
              "      <th></th>\n",
              "      <th>Total</th>\n",
              "    </tr>\n",
              "    <tr>\n",
              "      <th>Date</th>\n",
              "      <th></th>\n",
              "    </tr>\n",
              "  </thead>\n",
              "  <tbody>\n",
              "    <tr>\n",
              "      <th>2021-12-14 17:23:01</th>\n",
              "      <td>13</td>\n",
              "    </tr>\n",
              "    <tr>\n",
              "      <th>2021-12-14 17:53:02</th>\n",
              "      <td>11</td>\n",
              "    </tr>\n",
              "    <tr>\n",
              "      <th>2021-12-14 18:23:03</th>\n",
              "      <td>12</td>\n",
              "    </tr>\n",
              "    <tr>\n",
              "      <th>2021-12-14 18:53:04</th>\n",
              "      <td>11</td>\n",
              "    </tr>\n",
              "    <tr>\n",
              "      <th>2021-12-14 19:23:05</th>\n",
              "      <td>2</td>\n",
              "    </tr>\n",
              "  </tbody>\n",
              "</table>\n",
              "</div>\n",
              "      <button class=\"colab-df-convert\" onclick=\"convertToInteractive('df-43718149-75f1-4e72-841c-0d0e615e9619')\"\n",
              "              title=\"Convert this dataframe to an interactive table.\"\n",
              "              style=\"display:none;\">\n",
              "        \n",
              "  <svg xmlns=\"http://www.w3.org/2000/svg\" height=\"24px\"viewBox=\"0 0 24 24\"\n",
              "       width=\"24px\">\n",
              "    <path d=\"M0 0h24v24H0V0z\" fill=\"none\"/>\n",
              "    <path d=\"M18.56 5.44l.94 2.06.94-2.06 2.06-.94-2.06-.94-.94-2.06-.94 2.06-2.06.94zm-11 1L8.5 8.5l.94-2.06 2.06-.94-2.06-.94L8.5 2.5l-.94 2.06-2.06.94zm10 10l.94 2.06.94-2.06 2.06-.94-2.06-.94-.94-2.06-.94 2.06-2.06.94z\"/><path d=\"M17.41 7.96l-1.37-1.37c-.4-.4-.92-.59-1.43-.59-.52 0-1.04.2-1.43.59L10.3 9.45l-7.72 7.72c-.78.78-.78 2.05 0 2.83L4 21.41c.39.39.9.59 1.41.59.51 0 1.02-.2 1.41-.59l7.78-7.78 2.81-2.81c.8-.78.8-2.07 0-2.86zM5.41 20L4 18.59l7.72-7.72 1.47 1.35L5.41 20z\"/>\n",
              "  </svg>\n",
              "      </button>\n",
              "      \n",
              "  <style>\n",
              "    .colab-df-container {\n",
              "      display:flex;\n",
              "      flex-wrap:wrap;\n",
              "      gap: 12px;\n",
              "    }\n",
              "\n",
              "    .colab-df-convert {\n",
              "      background-color: #E8F0FE;\n",
              "      border: none;\n",
              "      border-radius: 50%;\n",
              "      cursor: pointer;\n",
              "      display: none;\n",
              "      fill: #1967D2;\n",
              "      height: 32px;\n",
              "      padding: 0 0 0 0;\n",
              "      width: 32px;\n",
              "    }\n",
              "\n",
              "    .colab-df-convert:hover {\n",
              "      background-color: #E2EBFA;\n",
              "      box-shadow: 0px 1px 2px rgba(60, 64, 67, 0.3), 0px 1px 3px 1px rgba(60, 64, 67, 0.15);\n",
              "      fill: #174EA6;\n",
              "    }\n",
              "\n",
              "    [theme=dark] .colab-df-convert {\n",
              "      background-color: #3B4455;\n",
              "      fill: #D2E3FC;\n",
              "    }\n",
              "\n",
              "    [theme=dark] .colab-df-convert:hover {\n",
              "      background-color: #434B5C;\n",
              "      box-shadow: 0px 1px 3px 1px rgba(0, 0, 0, 0.15);\n",
              "      filter: drop-shadow(0px 1px 2px rgba(0, 0, 0, 0.3));\n",
              "      fill: #FFFFFF;\n",
              "    }\n",
              "  </style>\n",
              "\n",
              "      <script>\n",
              "        const buttonEl =\n",
              "          document.querySelector('#df-43718149-75f1-4e72-841c-0d0e615e9619 button.colab-df-convert');\n",
              "        buttonEl.style.display =\n",
              "          google.colab.kernel.accessAllowed ? 'block' : 'none';\n",
              "\n",
              "        async function convertToInteractive(key) {\n",
              "          const element = document.querySelector('#df-43718149-75f1-4e72-841c-0d0e615e9619');\n",
              "          const dataTable =\n",
              "            await google.colab.kernel.invokeFunction('convertToInteractive',\n",
              "                                                     [key], {});\n",
              "          if (!dataTable) return;\n",
              "\n",
              "          const docLinkHtml = 'Like what you see? Visit the ' +\n",
              "            '<a target=\"_blank\" href=https://colab.research.google.com/notebooks/data_table.ipynb>data table notebook</a>'\n",
              "            + ' to learn more about interactive tables.';\n",
              "          element.innerHTML = '';\n",
              "          dataTable['output_type'] = 'display_data';\n",
              "          await google.colab.output.renderOutput(dataTable, element);\n",
              "          const docLink = document.createElement('div');\n",
              "          docLink.innerHTML = docLinkHtml;\n",
              "          element.appendChild(docLink);\n",
              "        }\n",
              "      </script>\n",
              "    </div>\n",
              "  </div>\n",
              "  "
            ],
            "text/plain": [
              "                    Total\n",
              "Date                     \n",
              "2021-12-14 17:23:01    13\n",
              "2021-12-14 17:53:02    11\n",
              "2021-12-14 18:23:03    12\n",
              "2021-12-14 18:53:04    11\n",
              "2021-12-14 19:23:05     2"
            ]
          },
          "metadata": {},
          "execution_count": 8
        }
      ]
    },
    {
      "cell_type": "code",
      "source": [
        "def stationarity_test(timeseries):\n",
        "    # Get rolling statistics for window = 12 i.e. yearly statistics\n",
        "    rolling_mean = timeseries.rolling(window = 12).mean()\n",
        "    rolling_std = timeseries.rolling(window = 12).std()\n",
        "    \n",
        "    # Plot rolling statistic\n",
        "    plt.figure(figsize= (10,6))\n",
        "    plt.xlabel('Years')\n",
        "    plt.ylabel('No of Vehicles')    \n",
        "    plt.title('Stationary Test: Rolling Mean and Standard Deviation')\n",
        "    plt.plot(timeseries, color= 'blue', label= 'Original')\n",
        "    plt.plot(rolling_mean, color= 'green', label= 'Rolling Mean')\n",
        "    plt.plot(rolling_std, color= 'red', label= 'Rolling Std')   \n",
        "    plt.legend()\n",
        "    plt.show()\n",
        "    \n",
        "    # Dickey-Fuller test\n",
        "    print('Results of Dickey-Fuller Test')\n",
        "    df_test = adfuller(timeseries)\n",
        "    df_output = pd.Series(df_test[0:4], index = ['Test Statistic', 'p-value', '#Lags Used', 'Number of Observations Used'])\n",
        "    for key, value in df_test[4].items():\n",
        "        df_output['Critical Value (%s)' %key] = value\n",
        "    print(df_output)"
      ],
      "metadata": {
        "id": "UNlPZv9i_vo2"
      },
      "execution_count": 9,
      "outputs": []
    },
    {
      "cell_type": "code",
      "source": [
        "from pmdarima.arima import ADFTest\n",
        "adf_test = ADFTest(alpha = 0.05)\n",
        "adf_test.should_diff(df_2)"
      ],
      "metadata": {
        "colab": {
          "base_uri": "https://localhost:8080/"
        },
        "id": "TQfv1g4pAJNR",
        "outputId": "74b707d0-e8fe-47b1-95f3-7818fc873c17"
      },
      "execution_count": 10,
      "outputs": [
        {
          "output_type": "execute_result",
          "data": {
            "text/plain": [
              "(0.01, False)"
            ]
          },
          "metadata": {},
          "execution_count": 10
        }
      ]
    },
    {
      "cell_type": "markdown",
      "source": [
        "From the above, we can conclude that the data is non-stationary. Hence, we would need to use the “Integrated (I)” concept, denoted by value ‘d’ in time series to make the data stationary while building the Auto ARIMA model."
      ],
      "metadata": {
        "id": "WQc3DgdVfzaD"
      }
    },
    {
      "cell_type": "code",
      "source": [
        "ax = df_2['Total'].plot(figsize = (16,5), title = \"30mins Vehicle Count\")\n",
        "ax.set(xlabel='Date', ylabel='Total Vehicles Count');"
      ],
      "metadata": {
        "colab": {
          "base_uri": "https://localhost:8080/",
          "height": 350
        },
        "id": "LScoy-VSlPA8",
        "outputId": "314e90a0-beee-49ce-afe2-155fcd12a48b"
      },
      "execution_count": 11,
      "outputs": [
        {
          "output_type": "display_data",
          "data": {
            "image/png": "[encoded data removed]",
            "text/plain": [
              "<Figure size 1152x360 with 1 Axes>"
            ]
          },
          "metadata": {
            "needs_background": "light"
          }
        }
      ]
    },
    {
      "cell_type": "code",
      "source": [
        "train_data = df_2[:len(df)-6]\n",
        "test_data = df_2[len(df)-6:]\n",
        "plt.plot(train_data)\n",
        "plt.plot(test_data)"
      ],
      "metadata": {
        "colab": {
          "base_uri": "https://localhost:8080/",
          "height": 282
        },
        "id": "YY-chuXqlwIJ",
        "outputId": "4b698507-596d-42e0-f752-eb98511bd501"
      },
      "execution_count": 12,
      "outputs": [
        {
          "output_type": "execute_result",
          "data": {
            "text/plain": [
              "[<matplotlib.lines.Line2D at 0x7fdac5767f10>]"
            ]
          },
          "metadata": {},
          "execution_count": 12
        },
        {
          "output_type": "display_data",
          "data": {
            "image/png": "[encoded data removed]",
            "text/plain": [
              "<Figure size 432x288 with 1 Axes>"
            ]
          },
          "metadata": {
            "needs_background": "light"
          }
        }
      ]
    },
    {
      "cell_type": "code",
      "source": [
        "arima_model =  auto_arima(train_data,start_p=0, d=1, start_q=0, \n",
        "                          max_p=10, max_d=10, max_q=10, start_P=0, \n",
        "                          D=1, start_Q=0, max_P=5, max_D=5,\n",
        "                          max_Q=5, m=12, seasonal=True, \n",
        "                          error_action='warn',trace = True,\n",
        "                          supress_warnings=True,stepwise = True,\n",
        "                          random_state=20,n_fits = 50 )"
      ],
      "metadata": {
        "colab": {
          "base_uri": "https://localhost:8080/"
        },
        "id": "uOaU6qmPjmih",
        "outputId": "31efbbd7-5e83-4c71-cca7-8a93e1dbf39d"
      },
      "execution_count": 13,
      "outputs": [
        {
          "output_type": "stream",
          "name": "stdout",
          "text": [
            "Performing stepwise search to minimize aic\n",
            " ARIMA(0,1,0)(0,1,0)[12]             : AIC=1950.664, Time=0.04 sec\n",
            " ARIMA(1,1,0)(1,1,0)[12]             : AIC=1828.501, Time=0.23 sec\n",
            " ARIMA(0,1,1)(0,1,1)[12]             : AIC=inf, Time=0.98 sec\n",
            " ARIMA(1,1,0)(0,1,0)[12]             : AIC=1896.896, Time=0.07 sec\n",
            " ARIMA(1,1,0)(2,1,0)[12]             : AIC=1794.982, Time=0.63 sec\n",
            " ARIMA(1,1,0)(3,1,0)[12]             : AIC=1739.590, Time=1.36 sec\n",
            " ARIMA(1,1,0)(4,1,0)[12]             : AIC=1738.820, Time=2.21 sec\n",
            " ARIMA(1,1,0)(5,1,0)[12]             : AIC=1740.657, Time=3.48 sec\n",
            " ARIMA(1,1,0)(4,1,1)[12]             : AIC=1740.073, Time=7.02 sec\n",
            " ARIMA(1,1,0)(3,1,1)[12]             : AIC=1722.857, Time=5.07 sec\n",
            " ARIMA(1,1,0)(2,1,1)[12]             : AIC=inf, Time=2.08 sec\n",
            " ARIMA(1,1,0)(3,1,2)[12]             : AIC=1721.342, Time=6.16 sec\n",
            " ARIMA(1,1,0)(2,1,2)[12]             : AIC=inf, Time=7.06 sec\n",
            " ARIMA(1,1,0)(4,1,2)[12]             : AIC=inf, Time=17.13 sec\n",
            " ARIMA(1,1,0)(3,1,3)[12]             : AIC=inf, Time=8.06 sec\n",
            " ARIMA(1,1,0)(2,1,3)[12]             : AIC=inf, Time=17.82 sec\n",
            " ARIMA(1,1,0)(4,1,3)[12]             : AIC=inf, Time=27.83 sec\n",
            " ARIMA(0,1,0)(3,1,2)[12]             : AIC=1751.043, Time=4.93 sec\n",
            " ARIMA(2,1,0)(3,1,2)[12]             : AIC=1716.963, Time=8.59 sec\n",
            " ARIMA(2,1,0)(2,1,2)[12]             : AIC=inf, Time=7.09 sec\n",
            " ARIMA(2,1,0)(3,1,1)[12]             : AIC=1718.509, Time=6.70 sec\n",
            " ARIMA(2,1,0)(4,1,2)[12]             : AIC=inf, Time=22.36 sec\n",
            " ARIMA(2,1,0)(3,1,3)[12]             : AIC=inf, Time=21.29 sec\n",
            " ARIMA(2,1,0)(2,1,1)[12]             : AIC=inf, Time=2.93 sec\n",
            " ARIMA(2,1,0)(2,1,3)[12]             : AIC=inf, Time=17.34 sec\n",
            " ARIMA(2,1,0)(4,1,1)[12]             : AIC=1732.174, Time=10.03 sec\n",
            " ARIMA(2,1,0)(4,1,3)[12]             : AIC=inf, Time=29.59 sec\n",
            " ARIMA(3,1,0)(3,1,2)[12]             : AIC=1715.034, Time=7.85 sec\n",
            " ARIMA(3,1,0)(2,1,2)[12]             : AIC=inf, Time=7.22 sec\n",
            " ARIMA(3,1,0)(3,1,1)[12]             : AIC=1717.077, Time=14.03 sec\n",
            " ARIMA(3,1,0)(4,1,2)[12]             : AIC=inf, Time=30.08 sec\n",
            " ARIMA(3,1,0)(3,1,3)[12]             : AIC=inf, Time=21.50 sec\n",
            " ARIMA(3,1,0)(2,1,1)[12]             : AIC=inf, Time=3.14 sec\n",
            " ARIMA(3,1,0)(2,1,3)[12]             : AIC=inf, Time=17.67 sec\n",
            " ARIMA(3,1,0)(4,1,1)[12]             : AIC=1728.458, Time=11.32 sec\n",
            " ARIMA(3,1,0)(4,1,3)[12]             : AIC=inf, Time=36.92 sec\n",
            " ARIMA(4,1,0)(3,1,2)[12]             : AIC=1705.731, Time=10.12 sec\n",
            " ARIMA(4,1,0)(2,1,2)[12]             : AIC=1711.035, Time=12.29 sec\n",
            " ARIMA(4,1,0)(3,1,1)[12]             : AIC=1708.419, Time=8.83 sec\n",
            " ARIMA(4,1,0)(4,1,2)[12]             : AIC=inf, Time=29.37 sec\n",
            " ARIMA(4,1,0)(3,1,3)[12]             : AIC=inf, Time=22.68 sec\n",
            " ARIMA(4,1,0)(2,1,1)[12]             : AIC=inf, Time=4.04 sec\n",
            " ARIMA(4,1,0)(2,1,3)[12]             : AIC=inf, Time=19.63 sec\n",
            " ARIMA(4,1,0)(4,1,1)[12]             : AIC=1713.166, Time=9.42 sec\n",
            " ARIMA(4,1,0)(4,1,3)[12]             : AIC=inf, Time=36.06 sec\n",
            " ARIMA(5,1,0)(3,1,2)[12]             : AIC=1707.296, Time=13.38 sec\n",
            " ARIMA(4,1,1)(3,1,2)[12]             : AIC=1707.477, Time=26.40 sec\n",
            " ARIMA(3,1,1)(3,1,2)[12]             : AIC=1710.418, Time=10.41 sec\n",
            " ARIMA(5,1,1)(3,1,2)[12]             : AIC=1708.758, Time=18.11 sec\n",
            " ARIMA(4,1,0)(3,1,2)[12] intercept   : AIC=1707.530, Time=10.57 sec\n",
            "\n",
            "Best model:  ARIMA(4,1,0)(3,1,2)[12]          \n",
            "Total fit time: 619.235 seconds\n"
          ]
        }
      ]
    },
    {
      "cell_type": "code",
      "source": [
        "#Summary of the model\n",
        "arima_model.summary()"
      ],
      "metadata": {
        "colab": {
          "base_uri": "https://localhost:8080/",
          "height": 580
        },
        "id": "KIPopyj-l_Qt",
        "outputId": "215f0d6f-b577-4bff-9789-2a4e92b59d5d"
      },
      "execution_count": 14,
      "outputs": [
        {
          "output_type": "execute_result",
          "data": {
            "text/html": [
              "<table class=\"simpletable\">\n",
              "<caption>SARIMAX Results</caption>\n",
              "<tr>\n",
              "  <th>Dep. Variable:</th>                    <td>y</td>                  <th>  No. Observations:  </th>    <td>331</td>  \n",
              "</tr>\n",
              "<tr>\n",
              "  <th>Model:</th>           <td>SARIMAX(4, 1, 0)x(3, 1, [1, 2], 12)</td> <th>  Log Likelihood     </th> <td>-842.865</td>\n",
              "</tr>\n",
              "<tr>\n",
              "  <th>Date:</th>                     <td>Tue, 21 Dec 2021</td>           <th>  AIC                </th> <td>1705.731</td>\n",
              "</tr>\n",
              "<tr>\n",
              "  <th>Time:</th>                         <td>09:47:19</td>               <th>  BIC                </th> <td>1743.351</td>\n",
              "</tr>\n",
              "<tr>\n",
              "  <th>Sample:</th>                           <td>0</td>                  <th>  HQIC               </th> <td>1720.756</td>\n",
              "</tr>\n",
              "<tr>\n",
              "  <th></th>                               <td> - 331</td>                <th>                     </th>     <td> </td>   \n",
              "</tr>\n",
              "<tr>\n",
              "  <th>Covariance Type:</th>                 <td>opg</td>                 <th>                     </th>     <td> </td>   \n",
              "</tr>\n",
              "</table>\n",
              "<table class=\"simpletable\">\n",
              "<tr>\n",
              "      <td></td>        <th>coef</th>     <th>std err</th>      <th>z</th>      <th>P>|z|</th>  <th>[0.025</th>    <th>0.975]</th>  \n",
              "</tr>\n",
              "<tr>\n",
              "  <th>ar.L1</th>    <td>   -0.4115</td> <td>    0.048</td> <td>   -8.516</td> <td> 0.000</td> <td>   -0.506</td> <td>   -0.317</td>\n",
              "</tr>\n",
              "<tr>\n",
              "  <th>ar.L2</th>    <td>   -0.2433</td> <td>    0.047</td> <td>   -5.188</td> <td> 0.000</td> <td>   -0.335</td> <td>   -0.151</td>\n",
              "</tr>\n",
              "<tr>\n",
              "  <th>ar.L3</th>    <td>   -0.2004</td> <td>    0.052</td> <td>   -3.845</td> <td> 0.000</td> <td>   -0.302</td> <td>   -0.098</td>\n",
              "</tr>\n",
              "<tr>\n",
              "  <th>ar.L4</th>    <td>   -0.1959</td> <td>    0.061</td> <td>   -3.217</td> <td> 0.001</td> <td>   -0.315</td> <td>   -0.077</td>\n",
              "</tr>\n",
              "<tr>\n",
              "  <th>ar.S.L12</th> <td>   -0.6275</td> <td>    0.311</td> <td>   -2.015</td> <td> 0.044</td> <td>   -1.238</td> <td>   -0.017</td>\n",
              "</tr>\n",
              "<tr>\n",
              "  <th>ar.S.L24</th> <td>   -0.3352</td> <td>    0.087</td> <td>   -3.857</td> <td> 0.000</td> <td>   -0.506</td> <td>   -0.165</td>\n",
              "</tr>\n",
              "<tr>\n",
              "  <th>ar.S.L36</th> <td>   -0.2720</td> <td>    0.077</td> <td>   -3.548</td> <td> 0.000</td> <td>   -0.422</td> <td>   -0.122</td>\n",
              "</tr>\n",
              "<tr>\n",
              "  <th>ma.S.L12</th> <td>   -0.3847</td> <td>    0.314</td> <td>   -1.225</td> <td> 0.221</td> <td>   -1.000</td> <td>    0.231</td>\n",
              "</tr>\n",
              "<tr>\n",
              "  <th>ma.S.L24</th> <td>   -0.3786</td> <td>    0.294</td> <td>   -1.287</td> <td> 0.198</td> <td>   -0.955</td> <td>    0.198</td>\n",
              "</tr>\n",
              "<tr>\n",
              "  <th>sigma2</th>   <td>   10.8283</td> <td>    0.731</td> <td>   14.809</td> <td> 0.000</td> <td>    9.395</td> <td>   12.261</td>\n",
              "</tr>\n",
              "</table>\n",
              "<table class=\"simpletable\">\n",
              "<tr>\n",
              "  <th>Ljung-Box (L1) (Q):</th>     <td>0.04</td> <th>  Jarque-Bera (JB):  </th> <td>32.67</td>\n",
              "</tr>\n",
              "<tr>\n",
              "  <th>Prob(Q):</th>                <td>0.84</td> <th>  Prob(JB):          </th> <td>0.00</td> \n",
              "</tr>\n",
              "<tr>\n",
              "  <th>Heteroskedasticity (H):</th> <td>1.01</td> <th>  Skew:              </th> <td>-0.05</td>\n",
              "</tr>\n",
              "<tr>\n",
              "  <th>Prob(H) (two-sided):</th>    <td>0.98</td> <th>  Kurtosis:          </th> <td>4.57</td> \n",
              "</tr>\n",
              "</table><br/><br/>Warnings:<br/>[1] Covariance matrix calculated using the outer product of gradients (complex-step)."
            ],
            "text/plain": [
              "<class 'statsmodels.iolib.summary.Summary'>\n",
              "\"\"\"\n",
              "                                        SARIMAX Results                                        \n",
              "===============================================================================================\n",
              "Dep. Variable:                                       y   No. Observations:                  331\n",
              "Model:             SARIMAX(4, 1, 0)x(3, 1, [1, 2], 12)   Log Likelihood                -842.865\n",
              "Date:                                 Tue, 21 Dec 2021   AIC                           1705.731\n",
              "Time:                                         09:47:19   BIC                           1743.351\n",
              "Sample:                                              0   HQIC                          1720.756\n",
              "                                                 - 331                                         \n",
              "Covariance Type:                                   opg                                         \n",
              "==============================================================================\n",
              "                 coef    std err          z      P>|z|      [0.025      0.975]\n",
              "------------------------------------------------------------------------------\n",
              "ar.L1         -0.4115      0.048     -8.516      0.000      -0.506      -0.317\n",
              "ar.L2         -0.2433      0.047     -5.188      0.000      -0.335      -0.151\n",
              "ar.L3         -0.2004      0.052     -3.845      0.000      -0.302      -0.098\n",
              "ar.L4         -0.1959      0.061     -3.217      0.001      -0.315      -0.077\n",
              "ar.S.L12      -0.6275      0.311     -2.015      0.044      -1.238      -0.017\n",
              "ar.S.L24      -0.3352      0.087     -3.857      0.000      -0.506      -0.165\n",
              "ar.S.L36      -0.2720      0.077     -3.548      0.000      -0.422      -0.122\n",
              "ma.S.L12      -0.3847      0.314     -1.225      0.221      -1.000       0.231\n",
              "ma.S.L24      -0.3786      0.294     -1.287      0.198      -0.955       0.198\n",
              "sigma2        10.8283      0.731     14.809      0.000       9.395      12.261\n",
              "===================================================================================\n",
              "Ljung-Box (L1) (Q):                   0.04   Jarque-Bera (JB):                32.67\n",
              "Prob(Q):                              0.84   Prob(JB):                         0.00\n",
              "Heteroskedasticity (H):               1.01   Skew:                            -0.05\n",
              "Prob(H) (two-sided):                  0.98   Kurtosis:                         4.57\n",
              "===================================================================================\n",
              "\n",
              "Warnings:\n",
              "[1] Covariance matrix calculated using the outer product of gradients (complex-step).\n",
              "\"\"\""
            ]
          },
          "metadata": {},
          "execution_count": 14
        }
      ]
    },
    {
      "cell_type": "code",
      "source": [
        "prediction = arima_model.predict(n_periods = 6)\n",
        "test_data['ARIMA_Predictions'] = prediction\n",
        "test_data\n",
        "# test_data['Total'].plot(figsize = (16,5), legend=True)\n",
        "# test_data['AutoARIMA_Predictions'].plot(legend = True);"
      ],
      "metadata": {
        "colab": {
          "base_uri": "https://localhost:8080/",
          "height": 269
        },
        "id": "6Q56Gu6_o1m3",
        "outputId": "aa6aed10-92dd-403c-a1ce-097e7a616170"
      },
      "execution_count": 15,
      "outputs": [
        {
          "output_type": "execute_result",
          "data": {
            "text/html": [
              "\n",
              "  <div id=\"df-872fdbba-f388-416d-8330-e5ea6d427d01\">\n",
              "    <div class=\"colab-df-container\">\n",
              "      <div>\n",
              "<style scoped>\n",
              "    .dataframe tbody tr th:only-of-type {\n",
              "        vertical-align: middle;\n",
              "    }\n",
              "\n",
              "    .dataframe tbody tr th {\n",
              "        vertical-align: top;\n",
              "    }\n",
              "\n",
              "    .dataframe thead th {\n",
              "        text-align: right;\n",
              "    }\n",
              "</style>\n",
              "<table border=\"1\" class=\"dataframe\">\n",
              "  <thead>\n",
              "    <tr style=\"text-align: right;\">\n",
              "      <th></th>\n",
              "      <th>Total</th>\n",
              "      <th>ARIMA_Predictions</th>\n",
              "    </tr>\n",
              "    <tr>\n",
              "      <th>Date</th>\n",
              "      <th></th>\n",
              "      <th></th>\n",
              "    </tr>\n",
              "  </thead>\n",
              "  <tbody>\n",
              "    <tr>\n",
              "      <th>2021-12-21 14:53:12</th>\n",
              "      <td>10</td>\n",
              "      <td>9.093200</td>\n",
              "    </tr>\n",
              "    <tr>\n",
              "      <th>2021-12-21 15:23:13</th>\n",
              "      <td>8</td>\n",
              "      <td>8.857868</td>\n",
              "    </tr>\n",
              "    <tr>\n",
              "      <th>2021-12-21 15:53:14</th>\n",
              "      <td>5</td>\n",
              "      <td>8.566975</td>\n",
              "    </tr>\n",
              "    <tr>\n",
              "      <th>2021-12-21 16:23:15</th>\n",
              "      <td>10</td>\n",
              "      <td>8.485624</td>\n",
              "    </tr>\n",
              "    <tr>\n",
              "      <th>2021-12-21 16:53:16</th>\n",
              "      <td>5</td>\n",
              "      <td>8.772611</td>\n",
              "    </tr>\n",
              "    <tr>\n",
              "      <th>2021-12-21 17:23:17</th>\n",
              "      <td>9</td>\n",
              "      <td>8.355298</td>\n",
              "    </tr>\n",
              "  </tbody>\n",
              "</table>\n",
              "</div>\n",
              "      <button class=\"colab-df-convert\" onclick=\"convertToInteractive('df-872fdbba-f388-416d-8330-e5ea6d427d01')\"\n",
              "              title=\"Convert this dataframe to an interactive table.\"\n",
              "              style=\"display:none;\">\n",
              "        \n",
              "  <svg xmlns=\"http://www.w3.org/2000/svg\" height=\"24px\"viewBox=\"0 0 24 24\"\n",
              "       width=\"24px\">\n",
              "    <path d=\"M0 0h24v24H0V0z\" fill=\"none\"/>\n",
              "    <path d=\"M18.56 5.44l.94 2.06.94-2.06 2.06-.94-2.06-.94-.94-2.06-.94 2.06-2.06.94zm-11 1L8.5 8.5l.94-2.06 2.06-.94-2.06-.94L8.5 2.5l-.94 2.06-2.06.94zm10 10l.94 2.06.94-2.06 2.06-.94-2.06-.94-.94-2.06-.94 2.06-2.06.94z\"/><path d=\"M17.41 7.96l-1.37-1.37c-.4-.4-.92-.59-1.43-.59-.52 0-1.04.2-1.43.59L10.3 9.45l-7.72 7.72c-.78.78-.78 2.05 0 2.83L4 21.41c.39.39.9.59 1.41.59.51 0 1.02-.2 1.41-.59l7.78-7.78 2.81-2.81c.8-.78.8-2.07 0-2.86zM5.41 20L4 18.59l7.72-7.72 1.47 1.35L5.41 20z\"/>\n",
              "  </svg>\n",
              "      </button>\n",
              "      \n",
              "  <style>\n",
              "    .colab-df-container {\n",
              "      display:flex;\n",
              "      flex-wrap:wrap;\n",
              "      gap: 12px;\n",
              "    }\n",
              "\n",
              "    .colab-df-convert {\n",
              "      background-color: #E8F0FE;\n",
              "      border: none;\n",
              "      border-radius: 50%;\n",
              "      cursor: pointer;\n",
              "      display: none;\n",
              "      fill: #1967D2;\n",
              "      height: 32px;\n",
              "      padding: 0 0 0 0;\n",
              "      width: 32px;\n",
              "    }\n",
              "\n",
              "    .colab-df-convert:hover {\n",
              "      background-color: #E2EBFA;\n",
              "      box-shadow: 0px 1px 2px rgba(60, 64, 67, 0.3), 0px 1px 3px 1px rgba(60, 64, 67, 0.15);\n",
              "      fill: #174EA6;\n",
              "    }\n",
              "\n",
              "    [theme=dark] .colab-df-convert {\n",
              "      background-color: #3B4455;\n",
              "      fill: #D2E3FC;\n",
              "    }\n",
              "\n",
              "    [theme=dark] .colab-df-convert:hover {\n",
              "      background-color: #434B5C;\n",
              "      box-shadow: 0px 1px 3px 1px rgba(0, 0, 0, 0.15);\n",
              "      filter: drop-shadow(0px 1px 2px rgba(0, 0, 0, 0.3));\n",
              "      fill: #FFFFFF;\n",
              "    }\n",
              "  </style>\n",
              "\n",
              "      <script>\n",
              "        const buttonEl =\n",
              "          document.querySelector('#df-872fdbba-f388-416d-8330-e5ea6d427d01 button.colab-df-convert');\n",
              "        buttonEl.style.display =\n",
              "          google.colab.kernel.accessAllowed ? 'block' : 'none';\n",
              "\n",
              "        async function convertToInteractive(key) {\n",
              "          const element = document.querySelector('#df-872fdbba-f388-416d-8330-e5ea6d427d01');\n",
              "          const dataTable =\n",
              "            await google.colab.kernel.invokeFunction('convertToInteractive',\n",
              "                                                     [key], {});\n",
              "          if (!dataTable) return;\n",
              "\n",
              "          const docLinkHtml = 'Like what you see? Visit the ' +\n",
              "            '<a target=\"_blank\" href=https://colab.research.google.com/notebooks/data_table.ipynb>data table notebook</a>'\n",
              "            + ' to learn more about interactive tables.';\n",
              "          element.innerHTML = '';\n",
              "          dataTable['output_type'] = 'display_data';\n",
              "          await google.colab.output.renderOutput(dataTable, element);\n",
              "          const docLink = document.createElement('div');\n",
              "          docLink.innerHTML = docLinkHtml;\n",
              "          element.appendChild(docLink);\n",
              "        }\n",
              "      </script>\n",
              "    </div>\n",
              "  </div>\n",
              "  "
            ],
            "text/plain": [
              "                    Total  ARIMA_Predictions\n",
              "Date                                        \n",
              "2021-12-21 14:53:12    10           9.093200\n",
              "2021-12-21 15:23:13     8           8.857868\n",
              "2021-12-21 15:53:14     5           8.566975\n",
              "2021-12-21 16:23:15    10           8.485624\n",
              "2021-12-21 16:53:16     5           8.772611\n",
              "2021-12-21 17:23:17     9           8.355298"
            ]
          },
          "metadata": {},
          "execution_count": 15
        }
      ]
    },
    {
      "cell_type": "code",
      "source": [
        "test_data['Total'].plot(figsize = (16,5), legend=True)\n",
        "test_data['ARIMA_Predictions'].plot(legend = True);"
      ],
      "metadata": {
        "colab": {
          "base_uri": "https://localhost:8080/",
          "height": 334
        },
        "id": "12mjyKu1Ju2L",
        "outputId": "7382e468-7ba2-4176-d997-0c6569a94f27"
      },
      "execution_count": 16,
      "outputs": [
        {
          "output_type": "display_data",
          "data": {
            "image/png": "[encoded data removed]",
            "text/plain": [
              "<Figure size 1152x360 with 1 Axes>"
            ]
          },
          "metadata": {
            "needs_background": "light"
          }
        }
      ]
    },
    {
      "cell_type": "code",
      "source": [
        "from sklearn.metrics import r2_score\n",
        "\n",
        "def mape(actual, pred): \n",
        "    actual, pred = np.array(actual), np.array(pred)\n",
        "    return np.mean(np.abs((actual - pred) / actual)) * 100\n",
        "\n",
        "arima_rmse_error = rmse(test_data['Total'], prediction)\n",
        "arima_mse_error = arima_rmse_error**2\n",
        "arima_r2_score = r2_score(test_data['Total'], prediction)\n",
        "arima_MAPE = mape(test_data['Total'], prediction)\n",
        "mean_value = df['Total'].mean()\n",
        "\n",
        "print(f'MSE Error: {arima_mse_error}\\nRMSE Error: {arima_rmse_error}\\nMean: {mean_value} \\nR2_Score:{arima_r2_score} \\nMAPE:{arima_MAPE}')"
      ],
      "metadata": {
        "colab": {
          "base_uri": "https://localhost:8080/"
        },
        "id": "MIK3hPkH3yNp",
        "outputId": "7b106e5b-bdc1-4538-c0b4-60cdfe574f37"
      },
      "execution_count": 17,
      "outputs": [
        {
          "output_type": "stream",
          "name": "stdout",
          "text": [
            "MSE Error: 5.20385085326395\n",
            "RMSE Error: 2.281195049368631\n",
            "Mean: 4.884272997032641 \n",
            "R2_Score:-0.16359397961181488 \n",
            "MAPE:31.48169831001987\n"
          ]
        }
      ]
    },
    {
      "cell_type": "markdown",
      "source": [
        "In the case although MAPE seems high but it is due to low volume data."
      ],
      "metadata": {
        "id": "7-imosZgIEFu"
      }
    },
    {
      "cell_type": "markdown",
      "source": [
        "LSTM Forecast"
      ],
      "metadata": {
        "id": "XQmfyR6VvrnQ"
      }
    },
    {
      "cell_type": "code",
      "source": [
        "from sklearn.preprocessing import MinMaxScaler\n",
        "scaler = MinMaxScaler()\n",
        "scaler.fit(train_data)\n",
        "scaled_train_data = scaler.transform(train_data)"
      ],
      "metadata": {
        "id": "hRpESRp5vkbb"
      },
      "execution_count": 18,
      "outputs": []
    },
    {
      "cell_type": "code",
      "source": [
        "from keras.preprocessing.sequence import TimeseriesGenerator\n",
        "\n",
        "n_input = 20\n",
        "n_features= 1\n",
        "generator = TimeseriesGenerator(scaled_train_data, scaled_train_data, length=n_input, batch_size=1)\n",
        "from keras.models import Sequential\n",
        "from keras.layers import Dense\n",
        "from keras.layers import LSTM\n",
        "\n",
        "lstm_model = Sequential()\n",
        "lstm_model.add(LSTM(200, activation='relu',return_sequences=True, input_shape=(n_input, n_features)))\n",
        "lstm_model.add(LSTM(50, activation='relu'))\n",
        "lstm_model.add(Dense(1))\n",
        "lstm_model.compile(optimizer='adam', loss='mse')\n",
        "\n",
        "lstm_model.summary()"
      ],
      "metadata": {
        "colab": {
          "base_uri": "https://localhost:8080/"
        },
        "id": "IO0rgiAR1Kkq",
        "outputId": "1d895189-b8f2-4e4b-bb44-d427085b8861"
      },
      "execution_count": 19,
      "outputs": [
        {
          "output_type": "stream",
          "name": "stdout",
          "text": [
            "WARNING:tensorflow:From /usr/local/lib/python3.7/dist-packages/keras/backend/tensorflow_backend.py:66: The name tf.get_default_graph is deprecated. Please use tf.compat.v1.get_default_graph instead.\n",
            "\n",
            "WARNING:tensorflow:From /usr/local/lib/python3.7/dist-packages/keras/backend/tensorflow_backend.py:541: The name tf.placeholder is deprecated. Please use tf.compat.v1.placeholder instead.\n",
            "\n",
            "WARNING:tensorflow:From /usr/local/lib/python3.7/dist-packages/keras/backend/tensorflow_backend.py:4432: The name tf.random_uniform is deprecated. Please use tf.random.uniform instead.\n",
            "\n",
            "WARNING:tensorflow:From /usr/local/lib/python3.7/dist-packages/keras/optimizers.py:793: The name tf.train.Optimizer is deprecated. Please use tf.compat.v1.train.Optimizer instead.\n",
            "\n",
            "Model: \"sequential_1\"\n",
            "_________________________________________________________________\n",
            "Layer (type)                 Output Shape              Param #   \n",
            "=================================================================\n",
            "lstm_1 (LSTM)                (None, 20, 200)           161600    \n",
            "_________________________________________________________________\n",
            "lstm_2 (LSTM)                (None, 50)                50200     \n",
            "_________________________________________________________________\n",
            "dense_1 (Dense)              (None, 1)                 51        \n",
            "=================================================================\n",
            "Total params: 211,851\n",
            "Trainable params: 211,851\n",
            "Non-trainable params: 0\n",
            "_________________________________________________________________\n"
          ]
        }
      ]
    },
    {
      "cell_type": "code",
      "source": [
        "lstm_model.fit_generator(generator,epochs=20)"
      ],
      "metadata": {
        "colab": {
          "base_uri": "https://localhost:8080/"
        },
        "id": "Sbjoa6CN1SJ2",
        "outputId": "ee9d8c2c-7988-4df1-fa4f-0d0a86e322de"
      },
      "execution_count": 20,
      "outputs": [
        {
          "output_type": "stream",
          "name": "stdout",
          "text": [
            "WARNING:tensorflow:From /usr/local/lib/python3.7/dist-packages/tensorflow/python/ops/math_grad.py:1250: add_dispatch_support.<locals>.wrapper (from tensorflow.python.ops.array_ops) is deprecated and will be removed in a future version.\n",
            "Instructions for updating:\n",
            "Use tf.where in 2.0, which has the same broadcast rule as np.where\n",
            "WARNING:tensorflow:From /usr/local/lib/python3.7/dist-packages/keras/backend/tensorflow_backend.py:1033: The name tf.assign_add is deprecated. Please use tf.compat.v1.assign_add instead.\n",
            "\n",
            "WARNING:tensorflow:From /usr/local/lib/python3.7/dist-packages/keras/backend/tensorflow_backend.py:1020: The name tf.assign is deprecated. Please use tf.compat.v1.assign instead.\n",
            "\n",
            "Epoch 1/20\n",
            "311/311 [==============================] - 12s 38ms/step - loss: 0.0519\n",
            "Epoch 2/20\n",
            "311/311 [==============================] - 11s 34ms/step - loss: 0.0370\n",
            "Epoch 3/20\n",
            "311/311 [==============================] - 11s 37ms/step - loss: 0.0329\n",
            "Epoch 4/20\n",
            "311/311 [==============================] - 11s 34ms/step - loss: 0.0291\n",
            "Epoch 5/20\n",
            "311/311 [==============================] - 11s 35ms/step - loss: 0.0315\n",
            "Epoch 6/20\n",
            "311/311 [==============================] - 14s 46ms/step - loss: 0.0298\n",
            "Epoch 7/20\n",
            "311/311 [==============================] - 12s 39ms/step - loss: 0.0297\n",
            "Epoch 8/20\n",
            "311/311 [==============================] - 11s 35ms/step - loss: 0.0287\n",
            "Epoch 9/20\n",
            "311/311 [==============================] - 11s 35ms/step - loss: 0.0277\n",
            "Epoch 10/20\n",
            "311/311 [==============================] - 11s 36ms/step - loss: 0.0285\n",
            "Epoch 11/20\n",
            "311/311 [==============================] - 13s 41ms/step - loss: 0.0271\n",
            "Epoch 12/20\n",
            "311/311 [==============================] - 20s 64ms/step - loss: 0.0263\n",
            "Epoch 13/20\n",
            "311/311 [==============================] - 15s 50ms/step - loss: 0.0278\n",
            "Epoch 14/20\n",
            "311/311 [==============================] - 14s 45ms/step - loss: 0.0273\n",
            "Epoch 15/20\n",
            "311/311 [==============================] - 18s 57ms/step - loss: 0.0272\n",
            "Epoch 16/20\n",
            "311/311 [==============================] - 11s 36ms/step - loss: 0.0262\n",
            "Epoch 17/20\n",
            "311/311 [==============================] - 11s 35ms/step - loss: 0.0268\n",
            "Epoch 18/20\n",
            "311/311 [==============================] - 11s 35ms/step - loss: 0.0261\n",
            "Epoch 19/20\n",
            "311/311 [==============================] - 11s 35ms/step - loss: 0.0260\n",
            "Epoch 20/20\n",
            "311/311 [==============================] - 11s 35ms/step - loss: 0.0262\n"
          ]
        },
        {
          "output_type": "execute_result",
          "data": {
            "text/plain": [
              "<keras.callbacks.History at 0x7fdabe9c9290>"
            ]
          },
          "metadata": {},
          "execution_count": 20
        }
      ]
    },
    {
      "cell_type": "code",
      "source": [
        "losses_lstm = lstm_model.history.history['loss']\n",
        "plt.figure(figsize=(12,4))\n",
        "plt.xlabel(\"Epochs\")\n",
        "plt.ylabel(\"Loss\")\n",
        "plt.xticks(np.arange(0,21,1))\n",
        "plt.plot(range(len(losses_lstm)),losses_lstm);"
      ],
      "metadata": {
        "colab": {
          "base_uri": "https://localhost:8080/",
          "height": 279
        },
        "id": "RM7eyZaQ1WDc",
        "outputId": "7c948534-75ec-4cb9-9745-050b47c00614"
      },
      "execution_count": 21,
      "outputs": [
        {
          "output_type": "display_data",
          "data": {
            "image/png": "[encoded data removed]",
            "text/plain": [
              "<Figure size 864x288 with 1 Axes>"
            ]
          },
          "metadata": {
            "needs_background": "light"
          }
        }
      ]
    },
    {
      "cell_type": "code",
      "source": [
        "lstm_predictions_scaled = list()\n",
        "\n",
        "batch = scaled_train_data[-n_input:]\n",
        "current_batch = batch.reshape((1, n_input, n_features))\n",
        "\n",
        "for i in range(len(test_data)):   \n",
        "    lstm_pred = lstm_model.predict(current_batch)[0]\n",
        "    lstm_predictions_scaled.append(lstm_pred) \n",
        "    current_batch = np.append(current_batch[:,1:,:],[[lstm_pred]],axis=1)\n",
        "\n",
        "lstm_predictions = scaler.inverse_transform(lstm_predictions_scaled)\n",
        "test_data['LSTM_Predictions'] = lstm_predictions\n",
        "test_data"
      ],
      "metadata": {
        "colab": {
          "base_uri": "https://localhost:8080/",
          "height": 269
        },
        "id": "Un3GBSQP1XSc",
        "outputId": "b5bfab86-29dc-44ad-cfa1-49fe975c6d05"
      },
      "execution_count": 22,
      "outputs": [
        {
          "output_type": "execute_result",
          "data": {
            "text/html": [
              "\n",
              "  <div id=\"df-b772b08a-2825-4290-bda1-d7fb091b2b9c\">\n",
              "    <div class=\"colab-df-container\">\n",
              "      <div>\n",
              "<style scoped>\n",
              "    .dataframe tbody tr th:only-of-type {\n",
              "        vertical-align: middle;\n",
              "    }\n",
              "\n",
              "    .dataframe tbody tr th {\n",
              "        vertical-align: top;\n",
              "    }\n",
              "\n",
              "    .dataframe thead th {\n",
              "        text-align: right;\n",
              "    }\n",
              "</style>\n",
              "<table border=\"1\" class=\"dataframe\">\n",
              "  <thead>\n",
              "    <tr style=\"text-align: right;\">\n",
              "      <th></th>\n",
              "      <th>Total</th>\n",
              "      <th>ARIMA_Predictions</th>\n",
              "      <th>LSTM_Predictions</th>\n",
              "    </tr>\n",
              "    <tr>\n",
              "      <th>Date</th>\n",
              "      <th></th>\n",
              "      <th></th>\n",
              "      <th></th>\n",
              "    </tr>\n",
              "  </thead>\n",
              "  <tbody>\n",
              "    <tr>\n",
              "      <th>2021-12-21 14:53:12</th>\n",
              "      <td>10</td>\n",
              "      <td>9.093200</td>\n",
              "      <td>7.372965</td>\n",
              "    </tr>\n",
              "    <tr>\n",
              "      <th>2021-12-21 15:23:13</th>\n",
              "      <td>8</td>\n",
              "      <td>8.857868</td>\n",
              "      <td>6.413776</td>\n",
              "    </tr>\n",
              "    <tr>\n",
              "      <th>2021-12-21 15:53:14</th>\n",
              "      <td>5</td>\n",
              "      <td>8.566975</td>\n",
              "      <td>5.820213</td>\n",
              "    </tr>\n",
              "    <tr>\n",
              "      <th>2021-12-21 16:23:15</th>\n",
              "      <td>10</td>\n",
              "      <td>8.485624</td>\n",
              "      <td>5.276061</td>\n",
              "    </tr>\n",
              "    <tr>\n",
              "      <th>2021-12-21 16:53:16</th>\n",
              "      <td>5</td>\n",
              "      <td>8.772611</td>\n",
              "      <td>4.692193</td>\n",
              "    </tr>\n",
              "    <tr>\n",
              "      <th>2021-12-21 17:23:17</th>\n",
              "      <td>9</td>\n",
              "      <td>8.355298</td>\n",
              "      <td>4.302424</td>\n",
              "    </tr>\n",
              "  </tbody>\n",
              "</table>\n",
              "</div>\n",
              "      <button class=\"colab-df-convert\" onclick=\"convertToInteractive('df-b772b08a-2825-4290-bda1-d7fb091b2b9c')\"\n",
              "              title=\"Convert this dataframe to an interactive table.\"\n",
              "              style=\"display:none;\">\n",
              "        \n",
              "  <svg xmlns=\"http://www.w3.org/2000/svg\" height=\"24px\"viewBox=\"0 0 24 24\"\n",
              "       width=\"24px\">\n",
              "    <path d=\"M0 0h24v24H0V0z\" fill=\"none\"/>\n",
              "    <path d=\"M18.56 5.44l.94 2.06.94-2.06 2.06-.94-2.06-.94-.94-2.06-.94 2.06-2.06.94zm-11 1L8.5 8.5l.94-2.06 2.06-.94-2.06-.94L8.5 2.5l-.94 2.06-2.06.94zm10 10l.94 2.06.94-2.06 2.06-.94-2.06-.94-.94-2.06-.94 2.06-2.06.94z\"/><path d=\"M17.41 7.96l-1.37-1.37c-.4-.4-.92-.59-1.43-.59-.52 0-1.04.2-1.43.59L10.3 9.45l-7.72 7.72c-.78.78-.78 2.05 0 2.83L4 21.41c.39.39.9.59 1.41.59.51 0 1.02-.2 1.41-.59l7.78-7.78 2.81-2.81c.8-.78.8-2.07 0-2.86zM5.41 20L4 18.59l7.72-7.72 1.47 1.35L5.41 20z\"/>\n",
              "  </svg>\n",
              "      </button>\n",
              "      \n",
              "  <style>\n",
              "    .colab-df-container {\n",
              "      display:flex;\n",
              "      flex-wrap:wrap;\n",
              "      gap: 12px;\n",
              "    }\n",
              "\n",
              "    .colab-df-convert {\n",
              "      background-color: #E8F0FE;\n",
              "      border: none;\n",
              "      border-radius: 50%;\n",
              "      cursor: pointer;\n",
              "      display: none;\n",
              "      fill: #1967D2;\n",
              "      height: 32px;\n",
              "      padding: 0 0 0 0;\n",
              "      width: 32px;\n",
              "    }\n",
              "\n",
              "    .colab-df-convert:hover {\n",
              "      background-color: #E2EBFA;\n",
              "      box-shadow: 0px 1px 2px rgba(60, 64, 67, 0.3), 0px 1px 3px 1px rgba(60, 64, 67, 0.15);\n",
              "      fill: #174EA6;\n",
              "    }\n",
              "\n",
              "    [theme=dark] .colab-df-convert {\n",
              "      background-color: #3B4455;\n",
              "      fill: #D2E3FC;\n",
              "    }\n",
              "\n",
              "    [theme=dark] .colab-df-convert:hover {\n",
              "      background-color: #434B5C;\n",
              "      box-shadow: 0px 1px 3px 1px rgba(0, 0, 0, 0.15);\n",
              "      filter: drop-shadow(0px 1px 2px rgba(0, 0, 0, 0.3));\n",
              "      fill: #FFFFFF;\n",
              "    }\n",
              "  </style>\n",
              "\n",
              "      <script>\n",
              "        const buttonEl =\n",
              "          document.querySelector('#df-b772b08a-2825-4290-bda1-d7fb091b2b9c button.colab-df-convert');\n",
              "        buttonEl.style.display =\n",
              "          google.colab.kernel.accessAllowed ? 'block' : 'none';\n",
              "\n",
              "        async function convertToInteractive(key) {\n",
              "          const element = document.querySelector('#df-b772b08a-2825-4290-bda1-d7fb091b2b9c');\n",
              "          const dataTable =\n",
              "            await google.colab.kernel.invokeFunction('convertToInteractive',\n",
              "                                                     [key], {});\n",
              "          if (!dataTable) return;\n",
              "\n",
              "          const docLinkHtml = 'Like what you see? Visit the ' +\n",
              "            '<a target=\"_blank\" href=https://colab.research.google.com/notebooks/data_table.ipynb>data table notebook</a>'\n",
              "            + ' to learn more about interactive tables.';\n",
              "          element.innerHTML = '';\n",
              "          dataTable['output_type'] = 'display_data';\n",
              "          await google.colab.output.renderOutput(dataTable, element);\n",
              "          const docLink = document.createElement('div');\n",
              "          docLink.innerHTML = docLinkHtml;\n",
              "          element.appendChild(docLink);\n",
              "        }\n",
              "      </script>\n",
              "    </div>\n",
              "  </div>\n",
              "  "
            ],
            "text/plain": [
              "                    Total  ARIMA_Predictions  LSTM_Predictions\n",
              "Date                                                          \n",
              "2021-12-21 14:53:12    10           9.093200          7.372965\n",
              "2021-12-21 15:23:13     8           8.857868          6.413776\n",
              "2021-12-21 15:53:14     5           8.566975          5.820213\n",
              "2021-12-21 16:23:15    10           8.485624          5.276061\n",
              "2021-12-21 16:53:16     5           8.772611          4.692193\n",
              "2021-12-21 17:23:17     9           8.355298          4.302424"
            ]
          },
          "metadata": {},
          "execution_count": 22
        }
      ]
    },
    {
      "cell_type": "code",
      "source": [
        "test_data['Total'].plot(figsize = (16,5), legend=True)\n",
        "test_data['LSTM_Predictions'].plot(legend = True);"
      ],
      "metadata": {
        "colab": {
          "base_uri": "https://localhost:8080/",
          "height": 334
        },
        "id": "NCo_bwp-1jOw",
        "outputId": "6f0a9455-30a7-4969-a524-a7ac1f9fcacf"
      },
      "execution_count": 23,
      "outputs": [
        {
          "output_type": "display_data",
          "data": {
            "image/png": "[encoded data removed]",
            "text/plain": [
              "<Figure size 1152x360 with 1 Axes>"
            ]
          },
          "metadata": {
            "needs_background": "light"
          }
        }
      ]
    },
    {
      "cell_type": "code",
      "source": [
        "lstm_rmse_error = rmse(test_data['Total'], test_data[\"LSTM_Predictions\"])\n",
        "lstm_mse_error = lstm_rmse_error**2\n",
        "mean_value = df['Total'].mean()\n",
        "lstm_r2_score = r2_score(test_data['Total'], test_data['LSTM_Predictions'])\n",
        "lstm_MAPE = mape(test_data['Total'], test_data['LSTM_Predictions'])\n",
        "\n",
        "print(f'MSE Error: {lstm_mse_error}\\nRMSE Error: {lstm_rmse_error}\\nMean: {mean_value} \\nR2_Score:{lstm_r2_score} \\nMAPE:{lstm_MAPE}')"
      ],
      "metadata": {
        "colab": {
          "base_uri": "https://localhost:8080/"
        },
        "id": "zGsUoKyS1nZb",
        "outputId": "f8c4342d-4298-4f30-f950-16b460d8aa3d"
      },
      "execution_count": 24,
      "outputs": [
        {
          "output_type": "stream",
          "name": "stdout",
          "text": [
            "MSE Error: 9.094623358096028\n",
            "RMSE Error: 3.015729324408281\n",
            "Mean: 4.884272997032641 \n",
            "R2_Score:-1.0335803782078075 \n",
            "MAPE:28.015537733832996\n"
          ]
        }
      ]
    },
    {
      "cell_type": "markdown",
      "source": [
        "Prophet Forecast"
      ],
      "metadata": {
        "id": "a-LO8U6e2NIA"
      }
    },
    {
      "cell_type": "code",
      "source": [
        "df_pr = df_2.copy()\n",
        "df_pr = df_2.reset_index()\n",
        "df_pr.columns = ['ds','y'] # To use prophet column names should be like that\n",
        "train_data_pr = df_pr.iloc[:len(df_2)-6]\n",
        "test_data_pr = df_pr.iloc[len(df_2)-6:]"
      ],
      "metadata": {
        "id": "CbbGLIIp2QG_"
      },
      "execution_count": 25,
      "outputs": []
    },
    {
      "cell_type": "code",
      "source": [
        "from fbprophet import Prophet\n",
        "\n",
        "model = Prophet(changepoint_prior_scale=0.01).fit(train_data_pr)\n",
        "future = model.make_future_dataframe(periods=6, freq='30min')\n",
        "future.tail()\n",
        "prophet_pred = model.predict(future)\n",
        "prophet_pred.head()"
      ],
      "metadata": {
        "colab": {
          "base_uri": "https://localhost:8080/",
          "height": 478
        },
        "id": "zF1QM-jY2Vws",
        "outputId": "e4db76c7-672b-4c18-b445-3c35e34a576b"
      },
      "execution_count": 26,
      "outputs": [
        {
          "output_type": "stream",
          "name": "stderr",
          "text": [
            "INFO:fbprophet:Disabling yearly seasonality. Run prophet with yearly_seasonality=True to override this.\n",
            "INFO:fbprophet:Disabling weekly seasonality. Run prophet with weekly_seasonality=True to override this.\n"
          ]
        },
        {
          "output_type": "execute_result",
          "data": {
            "text/html": [
              "\n",
              "  <div id=\"df-4b718ace-e690-448e-9063-5ccdc028f879\">\n",
              "    <div class=\"colab-df-container\">\n",
              "      <div>\n",
              "<style scoped>\n",
              "    .dataframe tbody tr th:only-of-type {\n",
              "        vertical-align: middle;\n",
              "    }\n",
              "\n",
              "    .dataframe tbody tr th {\n",
              "        vertical-align: top;\n",
              "    }\n",
              "\n",
              "    .dataframe thead th {\n",
              "        text-align: right;\n",
              "    }\n",
              "</style>\n",
              "<table border=\"1\" class=\"dataframe\">\n",
              "  <thead>\n",
              "    <tr style=\"text-align: right;\">\n",
              "      <th></th>\n",
              "      <th>ds</th>\n",
              "      <th>trend</th>\n",
              "      <th>yhat_lower</th>\n",
              "      <th>yhat_upper</th>\n",
              "      <th>trend_lower</th>\n",
              "      <th>trend_upper</th>\n",
              "      <th>additive_terms</th>\n",
              "      <th>additive_terms_lower</th>\n",
              "      <th>additive_terms_upper</th>\n",
              "      <th>daily</th>\n",
              "      <th>daily_lower</th>\n",
              "      <th>daily_upper</th>\n",
              "      <th>multiplicative_terms</th>\n",
              "      <th>multiplicative_terms_lower</th>\n",
              "      <th>multiplicative_terms_upper</th>\n",
              "      <th>yhat</th>\n",
              "    </tr>\n",
              "  </thead>\n",
              "  <tbody>\n",
              "    <tr>\n",
              "      <th>0</th>\n",
              "      <td>2021-12-14 17:23:01</td>\n",
              "      <td>4.851696</td>\n",
              "      <td>4.852938</td>\n",
              "      <td>12.313194</td>\n",
              "      <td>4.851696</td>\n",
              "      <td>4.851696</td>\n",
              "      <td>3.946979</td>\n",
              "      <td>3.946979</td>\n",
              "      <td>3.946979</td>\n",
              "      <td>3.946979</td>\n",
              "      <td>3.946979</td>\n",
              "      <td>3.946979</td>\n",
              "      <td>0.0</td>\n",
              "      <td>0.0</td>\n",
              "      <td>0.0</td>\n",
              "      <td>8.798675</td>\n",
              "    </tr>\n",
              "    <tr>\n",
              "      <th>1</th>\n",
              "      <td>2021-12-14 17:53:02</td>\n",
              "      <td>4.851659</td>\n",
              "      <td>4.773117</td>\n",
              "      <td>12.537438</td>\n",
              "      <td>4.851659</td>\n",
              "      <td>4.851659</td>\n",
              "      <td>3.674626</td>\n",
              "      <td>3.674626</td>\n",
              "      <td>3.674626</td>\n",
              "      <td>3.674626</td>\n",
              "      <td>3.674626</td>\n",
              "      <td>3.674626</td>\n",
              "      <td>0.0</td>\n",
              "      <td>0.0</td>\n",
              "      <td>0.0</td>\n",
              "      <td>8.526286</td>\n",
              "    </tr>\n",
              "    <tr>\n",
              "      <th>2</th>\n",
              "      <td>2021-12-14 18:23:03</td>\n",
              "      <td>4.851623</td>\n",
              "      <td>4.350132</td>\n",
              "      <td>11.606696</td>\n",
              "      <td>4.851623</td>\n",
              "      <td>4.851623</td>\n",
              "      <td>3.076723</td>\n",
              "      <td>3.076723</td>\n",
              "      <td>3.076723</td>\n",
              "      <td>3.076723</td>\n",
              "      <td>3.076723</td>\n",
              "      <td>3.076723</td>\n",
              "      <td>0.0</td>\n",
              "      <td>0.0</td>\n",
              "      <td>0.0</td>\n",
              "      <td>7.928346</td>\n",
              "    </tr>\n",
              "    <tr>\n",
              "      <th>3</th>\n",
              "      <td>2021-12-14 18:53:04</td>\n",
              "      <td>4.851586</td>\n",
              "      <td>3.291205</td>\n",
              "      <td>11.102835</td>\n",
              "      <td>4.851586</td>\n",
              "      <td>4.851586</td>\n",
              "      <td>2.171050</td>\n",
              "      <td>2.171050</td>\n",
              "      <td>2.171050</td>\n",
              "      <td>2.171050</td>\n",
              "      <td>2.171050</td>\n",
              "      <td>2.171050</td>\n",
              "      <td>0.0</td>\n",
              "      <td>0.0</td>\n",
              "      <td>0.0</td>\n",
              "      <td>7.022636</td>\n",
              "    </tr>\n",
              "    <tr>\n",
              "      <th>4</th>\n",
              "      <td>2021-12-14 19:23:05</td>\n",
              "      <td>4.851550</td>\n",
              "      <td>2.028874</td>\n",
              "      <td>9.522466</td>\n",
              "      <td>4.851550</td>\n",
              "      <td>4.851550</td>\n",
              "      <td>1.027998</td>\n",
              "      <td>1.027998</td>\n",
              "      <td>1.027998</td>\n",
              "      <td>1.027998</td>\n",
              "      <td>1.027998</td>\n",
              "      <td>1.027998</td>\n",
              "      <td>0.0</td>\n",
              "      <td>0.0</td>\n",
              "      <td>0.0</td>\n",
              "      <td>5.879548</td>\n",
              "    </tr>\n",
              "  </tbody>\n",
              "</table>\n",
              "</div>\n",
              "      <button class=\"colab-df-convert\" onclick=\"convertToInteractive('df-4b718ace-e690-448e-9063-5ccdc028f879')\"\n",
              "              title=\"Convert this dataframe to an interactive table.\"\n",
              "              style=\"display:none;\">\n",
              "        \n",
              "  <svg xmlns=\"http://www.w3.org/2000/svg\" height=\"24px\"viewBox=\"0 0 24 24\"\n",
              "       width=\"24px\">\n",
              "    <path d=\"M0 0h24v24H0V0z\" fill=\"none\"/>\n",
              "    <path d=\"M18.56 5.44l.94 2.06.94-2.06 2.06-.94-2.06-.94-.94-2.06-.94 2.06-2.06.94zm-11 1L8.5 8.5l.94-2.06 2.06-.94-2.06-.94L8.5 2.5l-.94 2.06-2.06.94zm10 10l.94 2.06.94-2.06 2.06-.94-2.06-.94-.94-2.06-.94 2.06-2.06.94z\"/><path d=\"M17.41 7.96l-1.37-1.37c-.4-.4-.92-.59-1.43-.59-.52 0-1.04.2-1.43.59L10.3 9.45l-7.72 7.72c-.78.78-.78 2.05 0 2.83L4 21.41c.39.39.9.59 1.41.59.51 0 1.02-.2 1.41-.59l7.78-7.78 2.81-2.81c.8-.78.8-2.07 0-2.86zM5.41 20L4 18.59l7.72-7.72 1.47 1.35L5.41 20z\"/>\n",
              "  </svg>\n",
              "      </button>\n",
              "      \n",
              "  <style>\n",
              "    .colab-df-container {\n",
              "      display:flex;\n",
              "      flex-wrap:wrap;\n",
              "      gap: 12px;\n",
              "    }\n",
              "\n",
              "    .colab-df-convert {\n",
              "      background-color: #E8F0FE;\n",
              "      border: none;\n",
              "      border-radius: 50%;\n",
              "      cursor: pointer;\n",
              "      display: none;\n",
              "      fill: #1967D2;\n",
              "      height: 32px;\n",
              "      padding: 0 0 0 0;\n",
              "      width: 32px;\n",
              "    }\n",
              "\n",
              "    .colab-df-convert:hover {\n",
              "      background-color: #E2EBFA;\n",
              "      box-shadow: 0px 1px 2px rgba(60, 64, 67, 0.3), 0px 1px 3px 1px rgba(60, 64, 67, 0.15);\n",
              "      fill: #174EA6;\n",
              "    }\n",
              "\n",
              "    [theme=dark] .colab-df-convert {\n",
              "      background-color: #3B4455;\n",
              "      fill: #D2E3FC;\n",
              "    }\n",
              "\n",
              "    [theme=dark] .colab-df-convert:hover {\n",
              "      background-color: #434B5C;\n",
              "      box-shadow: 0px 1px 3px 1px rgba(0, 0, 0, 0.15);\n",
              "      filter: drop-shadow(0px 1px 2px rgba(0, 0, 0, 0.3));\n",
              "      fill: #FFFFFF;\n",
              "    }\n",
              "  </style>\n",
              "\n",
              "      <script>\n",
              "        const buttonEl =\n",
              "          document.querySelector('#df-4b718ace-e690-448e-9063-5ccdc028f879 button.colab-df-convert');\n",
              "        buttonEl.style.display =\n",
              "          google.colab.kernel.accessAllowed ? 'block' : 'none';\n",
              "\n",
              "        async function convertToInteractive(key) {\n",
              "          const element = document.querySelector('#df-4b718ace-e690-448e-9063-5ccdc028f879');\n",
              "          const dataTable =\n",
              "            await google.colab.kernel.invokeFunction('convertToInteractive',\n",
              "                                                     [key], {});\n",
              "          if (!dataTable) return;\n",
              "\n",
              "          const docLinkHtml = 'Like what you see? Visit the ' +\n",
              "            '<a target=\"_blank\" href=https://colab.research.google.com/notebooks/data_table.ipynb>data table notebook</a>'\n",
              "            + ' to learn more about interactive tables.';\n",
              "          element.innerHTML = '';\n",
              "          dataTable['output_type'] = 'display_data';\n",
              "          await google.colab.output.renderOutput(dataTable, element);\n",
              "          const docLink = document.createElement('div');\n",
              "          docLink.innerHTML = docLinkHtml;\n",
              "          element.appendChild(docLink);\n",
              "        }\n",
              "      </script>\n",
              "    </div>\n",
              "  </div>\n",
              "  "
            ],
            "text/plain": [
              "                   ds     trend  ...  multiplicative_terms_upper      yhat\n",
              "0 2021-12-14 17:23:01  4.851696  ...                         0.0  8.798675\n",
              "1 2021-12-14 17:53:02  4.851659  ...                         0.0  8.526286\n",
              "2 2021-12-14 18:23:03  4.851623  ...                         0.0  7.928346\n",
              "3 2021-12-14 18:53:04  4.851586  ...                         0.0  7.022636\n",
              "4 2021-12-14 19:23:05  4.851550  ...                         0.0  5.879548\n",
              "\n",
              "[5 rows x 16 columns]"
            ]
          },
          "metadata": {},
          "execution_count": 26
        }
      ]
    },
    {
      "cell_type": "code",
      "source": [
        "prophet_pred = pd.DataFrame({\"Date\" : prophet_pred[-6:]['ds'], \"Pred\" : prophet_pred[-6:][\"yhat\"]})\n",
        "prophet_pred = prophet_pred.set_index(\"Date\")\n",
        "prophet_pred"
      ],
      "metadata": {
        "colab": {
          "base_uri": "https://localhost:8080/",
          "height": 269
        },
        "id": "vtJfXIXR22QR",
        "outputId": "610ac96a-068b-41fd-fd7a-99f9b2d3f780"
      },
      "execution_count": 27,
      "outputs": [
        {
          "output_type": "execute_result",
          "data": {
            "text/html": [
              "\n",
              "  <div id=\"df-5e0bc11e-efb9-4d80-93e1-6961fe84fb37\">\n",
              "    <div class=\"colab-df-container\">\n",
              "      <div>\n",
              "<style scoped>\n",
              "    .dataframe tbody tr th:only-of-type {\n",
              "        vertical-align: middle;\n",
              "    }\n",
              "\n",
              "    .dataframe tbody tr th {\n",
              "        vertical-align: top;\n",
              "    }\n",
              "\n",
              "    .dataframe thead th {\n",
              "        text-align: right;\n",
              "    }\n",
              "</style>\n",
              "<table border=\"1\" class=\"dataframe\">\n",
              "  <thead>\n",
              "    <tr style=\"text-align: right;\">\n",
              "      <th></th>\n",
              "      <th>Pred</th>\n",
              "    </tr>\n",
              "    <tr>\n",
              "      <th>Date</th>\n",
              "      <th></th>\n",
              "    </tr>\n",
              "  </thead>\n",
              "  <tbody>\n",
              "    <tr>\n",
              "      <th>2021-12-21 14:53:12</th>\n",
              "      <td>7.750837</td>\n",
              "    </tr>\n",
              "    <tr>\n",
              "      <th>2021-12-21 15:23:12</th>\n",
              "      <td>7.931425</td>\n",
              "    </tr>\n",
              "    <tr>\n",
              "      <th>2021-12-21 15:53:12</th>\n",
              "      <td>8.232604</td>\n",
              "    </tr>\n",
              "    <tr>\n",
              "      <th>2021-12-21 16:23:12</th>\n",
              "      <td>8.552888</td>\n",
              "    </tr>\n",
              "    <tr>\n",
              "      <th>2021-12-21 16:53:12</th>\n",
              "      <td>8.775568</td>\n",
              "    </tr>\n",
              "    <tr>\n",
              "      <th>2021-12-21 17:23:12</th>\n",
              "      <td>8.790655</td>\n",
              "    </tr>\n",
              "  </tbody>\n",
              "</table>\n",
              "</div>\n",
              "      <button class=\"colab-df-convert\" onclick=\"convertToInteractive('df-5e0bc11e-efb9-4d80-93e1-6961fe84fb37')\"\n",
              "              title=\"Convert this dataframe to an interactive table.\"\n",
              "              style=\"display:none;\">\n",
              "        \n",
              "  <svg xmlns=\"http://www.w3.org/2000/svg\" height=\"24px\"viewBox=\"0 0 24 24\"\n",
              "       width=\"24px\">\n",
              "    <path d=\"M0 0h24v24H0V0z\" fill=\"none\"/>\n",
              "    <path d=\"M18.56 5.44l.94 2.06.94-2.06 2.06-.94-2.06-.94-.94-2.06-.94 2.06-2.06.94zm-11 1L8.5 8.5l.94-2.06 2.06-.94-2.06-.94L8.5 2.5l-.94 2.06-2.06.94zm10 10l.94 2.06.94-2.06 2.06-.94-2.06-.94-.94-2.06-.94 2.06-2.06.94z\"/><path d=\"M17.41 7.96l-1.37-1.37c-.4-.4-.92-.59-1.43-.59-.52 0-1.04.2-1.43.59L10.3 9.45l-7.72 7.72c-.78.78-.78 2.05 0 2.83L4 21.41c.39.39.9.59 1.41.59.51 0 1.02-.2 1.41-.59l7.78-7.78 2.81-2.81c.8-.78.8-2.07 0-2.86zM5.41 20L4 18.59l7.72-7.72 1.47 1.35L5.41 20z\"/>\n",
              "  </svg>\n",
              "      </button>\n",
              "      \n",
              "  <style>\n",
              "    .colab-df-container {\n",
              "      display:flex;\n",
              "      flex-wrap:wrap;\n",
              "      gap: 12px;\n",
              "    }\n",
              "\n",
              "    .colab-df-convert {\n",
              "      background-color: #E8F0FE;\n",
              "      border: none;\n",
              "      border-radius: 50%;\n",
              "      cursor: pointer;\n",
              "      display: none;\n",
              "      fill: #1967D2;\n",
              "      height: 32px;\n",
              "      padding: 0 0 0 0;\n",
              "      width: 32px;\n",
              "    }\n",
              "\n",
              "    .colab-df-convert:hover {\n",
              "      background-color: #E2EBFA;\n",
              "      box-shadow: 0px 1px 2px rgba(60, 64, 67, 0.3), 0px 1px 3px 1px rgba(60, 64, 67, 0.15);\n",
              "      fill: #174EA6;\n",
              "    }\n",
              "\n",
              "    [theme=dark] .colab-df-convert {\n",
              "      background-color: #3B4455;\n",
              "      fill: #D2E3FC;\n",
              "    }\n",
              "\n",
              "    [theme=dark] .colab-df-convert:hover {\n",
              "      background-color: #434B5C;\n",
              "      box-shadow: 0px 1px 3px 1px rgba(0, 0, 0, 0.15);\n",
              "      filter: drop-shadow(0px 1px 2px rgba(0, 0, 0, 0.3));\n",
              "      fill: #FFFFFF;\n",
              "    }\n",
              "  </style>\n",
              "\n",
              "      <script>\n",
              "        const buttonEl =\n",
              "          document.querySelector('#df-5e0bc11e-efb9-4d80-93e1-6961fe84fb37 button.colab-df-convert');\n",
              "        buttonEl.style.display =\n",
              "          google.colab.kernel.accessAllowed ? 'block' : 'none';\n",
              "\n",
              "        async function convertToInteractive(key) {\n",
              "          const element = document.querySelector('#df-5e0bc11e-efb9-4d80-93e1-6961fe84fb37');\n",
              "          const dataTable =\n",
              "            await google.colab.kernel.invokeFunction('convertToInteractive',\n",
              "                                                     [key], {});\n",
              "          if (!dataTable) return;\n",
              "\n",
              "          const docLinkHtml = 'Like what you see? Visit the ' +\n",
              "            '<a target=\"_blank\" href=https://colab.research.google.com/notebooks/data_table.ipynb>data table notebook</a>'\n",
              "            + ' to learn more about interactive tables.';\n",
              "          element.innerHTML = '';\n",
              "          dataTable['output_type'] = 'display_data';\n",
              "          await google.colab.output.renderOutput(dataTable, element);\n",
              "          const docLink = document.createElement('div');\n",
              "          docLink.innerHTML = docLinkHtml;\n",
              "          element.appendChild(docLink);\n",
              "        }\n",
              "      </script>\n",
              "    </div>\n",
              "  </div>\n",
              "  "
            ],
            "text/plain": [
              "                         Pred\n",
              "Date                         \n",
              "2021-12-21 14:53:12  7.750837\n",
              "2021-12-21 15:23:12  7.931425\n",
              "2021-12-21 15:53:12  8.232604\n",
              "2021-12-21 16:23:12  8.552888\n",
              "2021-12-21 16:53:12  8.775568\n",
              "2021-12-21 17:23:12  8.790655"
            ]
          },
          "metadata": {},
          "execution_count": 27
        }
      ]
    },
    {
      "cell_type": "code",
      "source": [
        "test_data[\"Prophet_Predictions\"] = prophet_pred['Pred'].values\n",
        "import seaborn as sns\n",
        "plt.figure(figsize=(16,5))\n",
        "ax = sns.lineplot(x= test_data.index, y=test_data[\"Total\"])\n",
        "sns.lineplot(x=test_data.index, y = test_data[\"Prophet_Predictions\"]);"
      ],
      "metadata": {
        "colab": {
          "base_uri": "https://localhost:8080/",
          "height": 334
        },
        "id": "4TnlUI3M24I-",
        "outputId": "ef71b4e6-a3f8-4159-f741-19f82dd25698"
      },
      "execution_count": 28,
      "outputs": [
        {
          "output_type": "display_data",
          "data": {
            "image/png": "[encoded data removed]",
            "text/plain": [
              "<Figure size 1152x360 with 1 Axes>"
            ]
          },
          "metadata": {
            "needs_background": "light"
          }
        }
      ]
    },
    {
      "cell_type": "code",
      "source": [
        "prophet_rmse_error = rmse(test_data['Total'], test_data[\"Prophet_Predictions\"])\n",
        "prophet_mse_error = prophet_rmse_error**2\n",
        "mean_value = df['Total'].mean()\n",
        "prophet_r2_score = r2_score(test_data['Total'], test_data[\"Prophet_Predictions\"])\n",
        "prophet_MAPE = mape(test_data['Total'], test_data[\"Prophet_Predictions\"])\n",
        "mean_value = df['Total'].mean()\n",
        "\n",
        "\n",
        "print(f'MSE Error: {prophet_mse_error}\\nRMSE Error: {prophet_rmse_error}\\nMean: {mean_value} \\nR2_Score:{prophet_r2_score} \\nMAPE:{prophet_MAPE}')"
      ],
      "metadata": {
        "colab": {
          "base_uri": "https://localhost:8080/"
        },
        "id": "njVPlLpZ29yI",
        "outputId": "99a324c7-bf96-4cda-9494-cc132f703cbd"
      },
      "execution_count": 29,
      "outputs": [
        {
          "output_type": "stream",
          "name": "stdout",
          "text": [
            "MSE Error: 5.317671985321825\n",
            "RMSE Error: 2.3060078025283923\n",
            "Mean: 4.884272997032641 \n",
            "R2_Score:-0.18904466752537696 \n",
            "MAPE:30.05156925047906\n"
          ]
        }
      ]
    },
    {
      "cell_type": "code",
      "source": [
        "rmse_errors = [arima_rmse_error, lstm_rmse_error, prophet_rmse_error]\n",
        "mse_errors = [arima_mse_error, lstm_mse_error, prophet_mse_error]\n",
        "r2_result = [arima_r2_score, lstm_r2_score, prophet_r2_score]\n",
        "mape_result = [arima_MAPE, lstm_MAPE, prophet_MAPE]\n",
        "errors = pd.DataFrame({\"Models\" : [\"ARIMA\", \"LSTM\", \"Prophet\"],\"RMSE Errors\" : rmse_errors, \"MSE Errors\" : mse_errors, \"R2 Score\" : r2_result, \"MAPE\": mape_result})\n",
        "plt.figure(figsize=(16,9))\n",
        "plt.plot_date(test_data.index, test_data[\"Total\"], linestyle=\"-\",label='raw data')\n",
        "plt.plot_date(test_data.index, test_data[\"ARIMA_Predictions\"], linestyle=\"-.\", label='ARIMA')\n",
        "plt.plot_date(test_data.index, test_data[\"LSTM_Predictions\"], linestyle=\"--\",label='LSTM')\n",
        "plt.plot_date(test_data.index, test_data[\"Prophet_Predictions\"], linestyle=\":\",label='Prophet')\n",
        "plt.legend()\n",
        "plt.show()"
      ],
      "metadata": {
        "colab": {
          "base_uri": "https://localhost:8080/",
          "height": 537
        },
        "id": "JSS3saNr3oip",
        "outputId": "04e9e41e-fe97-4ed4-af64-0833e671fecf"
      },
      "execution_count": 30,
      "outputs": [
        {
          "output_type": "display_data",
          "data": {
            "image/png": "[encoded data removed]",
            "text/plain": [
              "<Figure size 1152x648 with 1 Axes>"
            ]
          },
          "metadata": {
            "needs_background": "light"
          }
        }
      ]
    },
    {
      "cell_type": "code",
      "source": [
        "print(f\"Mean: {test_data['Total'].mean()}\")\n",
        "errors"
      ],
      "metadata": {
        "colab": {
          "base_uri": "https://localhost:8080/",
          "height": 161
        },
        "id": "v68M9lCJ61GF",
        "outputId": "f9e863f0-d318-42fe-9af7-8529d1976452"
      },
      "execution_count": 31,
      "outputs": [
        {
          "output_type": "stream",
          "name": "stdout",
          "text": [
            "Mean: 7.833333333333333\n"
          ]
        },
        {
          "output_type": "execute_result",
          "data": {
            "text/html": [
              "\n",
              "  <div id=\"df-ed2d1f94-401b-4be6-86a6-733cdc8eecd7\">\n",
              "    <div class=\"colab-df-container\">\n",
              "      <div>\n",
              "<style scoped>\n",
              "    .dataframe tbody tr th:only-of-type {\n",
              "        vertical-align: middle;\n",
              "    }\n",
              "\n",
              "    .dataframe tbody tr th {\n",
              "        vertical-align: top;\n",
              "    }\n",
              "\n",
              "    .dataframe thead th {\n",
              "        text-align: right;\n",
              "    }\n",
              "</style>\n",
              "<table border=\"1\" class=\"dataframe\">\n",
              "  <thead>\n",
              "    <tr style=\"text-align: right;\">\n",
              "      <th></th>\n",
              "      <th>Models</th>\n",
              "      <th>RMSE Errors</th>\n",
              "      <th>MSE Errors</th>\n",
              "      <th>R2 Score</th>\n",
              "      <th>MAPE</th>\n",
              "    </tr>\n",
              "  </thead>\n",
              "  <tbody>\n",
              "    <tr>\n",
              "      <th>0</th>\n",
              "      <td>ARIMA</td>\n",
              "      <td>2.281195</td>\n",
              "      <td>5.203851</td>\n",
              "      <td>-0.163594</td>\n",
              "      <td>31.481698</td>\n",
              "    </tr>\n",
              "    <tr>\n",
              "      <th>1</th>\n",
              "      <td>LSTM</td>\n",
              "      <td>3.015729</td>\n",
              "      <td>9.094623</td>\n",
              "      <td>-1.033580</td>\n",
              "      <td>28.015538</td>\n",
              "    </tr>\n",
              "    <tr>\n",
              "      <th>2</th>\n",
              "      <td>Prophet</td>\n",
              "      <td>2.306008</td>\n",
              "      <td>5.317672</td>\n",
              "      <td>-0.189045</td>\n",
              "      <td>30.051569</td>\n",
              "    </tr>\n",
              "  </tbody>\n",
              "</table>\n",
              "</div>\n",
              "      <button class=\"colab-df-convert\" onclick=\"convertToInteractive('df-ed2d1f94-401b-4be6-86a6-733cdc8eecd7')\"\n",
              "              title=\"Convert this dataframe to an interactive table.\"\n",
              "              style=\"display:none;\">\n",
              "        \n",
              "  <svg xmlns=\"http://www.w3.org/2000/svg\" height=\"24px\"viewBox=\"0 0 24 24\"\n",
              "       width=\"24px\">\n",
              "    <path d=\"M0 0h24v24H0V0z\" fill=\"none\"/>\n",
              "    <path d=\"M18.56 5.44l.94 2.06.94-2.06 2.06-.94-2.06-.94-.94-2.06-.94 2.06-2.06.94zm-11 1L8.5 8.5l.94-2.06 2.06-.94-2.06-.94L8.5 2.5l-.94 2.06-2.06.94zm10 10l.94 2.06.94-2.06 2.06-.94-2.06-.94-.94-2.06-.94 2.06-2.06.94z\"/><path d=\"M17.41 7.96l-1.37-1.37c-.4-.4-.92-.59-1.43-.59-.52 0-1.04.2-1.43.59L10.3 9.45l-7.72 7.72c-.78.78-.78 2.05 0 2.83L4 21.41c.39.39.9.59 1.41.59.51 0 1.02-.2 1.41-.59l7.78-7.78 2.81-2.81c.8-.78.8-2.07 0-2.86zM5.41 20L4 18.59l7.72-7.72 1.47 1.35L5.41 20z\"/>\n",
              "  </svg>\n",
              "      </button>\n",
              "      \n",
              "  <style>\n",
              "    .colab-df-container {\n",
              "      display:flex;\n",
              "      flex-wrap:wrap;\n",
              "      gap: 12px;\n",
              "    }\n",
              "\n",
              "    .colab-df-convert {\n",
              "      background-color: #E8F0FE;\n",
              "      border: none;\n",
              "      border-radius: 50%;\n",
              "      cursor: pointer;\n",
              "      display: none;\n",
              "      fill: #1967D2;\n",
              "      height: 32px;\n",
              "      padding: 0 0 0 0;\n",
              "      width: 32px;\n",
              "    }\n",
              "\n",
              "    .colab-df-convert:hover {\n",
              "      background-color: #E2EBFA;\n",
              "      box-shadow: 0px 1px 2px rgba(60, 64, 67, 0.3), 0px 1px 3px 1px rgba(60, 64, 67, 0.15);\n",
              "      fill: #174EA6;\n",
              "    }\n",
              "\n",
              "    [theme=dark] .colab-df-convert {\n",
              "      background-color: #3B4455;\n",
              "      fill: #D2E3FC;\n",
              "    }\n",
              "\n",
              "    [theme=dark] .colab-df-convert:hover {\n",
              "      background-color: #434B5C;\n",
              "      box-shadow: 0px 1px 3px 1px rgba(0, 0, 0, 0.15);\n",
              "      filter: drop-shadow(0px 1px 2px rgba(0, 0, 0, 0.3));\n",
              "      fill: #FFFFFF;\n",
              "    }\n",
              "  </style>\n",
              "\n",
              "      <script>\n",
              "        const buttonEl =\n",
              "          document.querySelector('#df-ed2d1f94-401b-4be6-86a6-733cdc8eecd7 button.colab-df-convert');\n",
              "        buttonEl.style.display =\n",
              "          google.colab.kernel.accessAllowed ? 'block' : 'none';\n",
              "\n",
              "        async function convertToInteractive(key) {\n",
              "          const element = document.querySelector('#df-ed2d1f94-401b-4be6-86a6-733cdc8eecd7');\n",
              "          const dataTable =\n",
              "            await google.colab.kernel.invokeFunction('convertToInteractive',\n",
              "                                                     [key], {});\n",
              "          if (!dataTable) return;\n",
              "\n",
              "          const docLinkHtml = 'Like what you see? Visit the ' +\n",
              "            '<a target=\"_blank\" href=https://colab.research.google.com/notebooks/data_table.ipynb>data table notebook</a>'\n",
              "            + ' to learn more about interactive tables.';\n",
              "          element.innerHTML = '';\n",
              "          dataTable['output_type'] = 'display_data';\n",
              "          await google.colab.output.renderOutput(dataTable, element);\n",
              "          const docLink = document.createElement('div');\n",
              "          docLink.innerHTML = docLinkHtml;\n",
              "          element.appendChild(docLink);\n",
              "        }\n",
              "      </script>\n",
              "    </div>\n",
              "  </div>\n",
              "  "
            ],
            "text/plain": [
              "    Models  RMSE Errors  MSE Errors  R2 Score       MAPE\n",
              "0    ARIMA     2.281195    5.203851 -0.163594  31.481698\n",
              "1     LSTM     3.015729    9.094623 -1.033580  28.015538\n",
              "2  Prophet     2.306008    5.317672 -0.189045  30.051569"
            ]
          },
          "metadata": {},
          "execution_count": 31
        }
      ]
    },
    {
      "cell_type": "markdown",
      "source": [
        "Hence, based on the analytics, Auto ARIMA model is selected."
      ],
      "metadata": {
        "id": "av3huARP7Hmz"
      }
    },
    {
      "cell_type": "markdown",
      "source": [
        "Looking into Multivariate Time Series Forecasting where the weather data is being included"
      ],
      "metadata": {
        "id": "0m6M4rd6SRVV"
      }
    },
    {
      "cell_type": "code",
      "source": [
        "#this function is to enable us to generate the amount of data we need to collect for the analysis\n",
        "\n",
        "def data_generation_weather(current, days, interval, latitude, longitude,station):\n",
        "  current_date = current.astimezone(timezone(timedelta(hours=8), name = 'SGT')).replace(microsecond=0)\n",
        "  past_date_week = current_date - timedelta(days = days)\n",
        "  delta = timedelta(minutes=interval)\n",
        "  weather_data= []\n",
        "  temp = []\n",
        "  data = []\n",
        "  df_historical = pd.DataFrame(data, columns=['Date', 'Car', 'Bus', 'Truck','Motorcycle', 'Total', \"Temp\"]) \n",
        "  while past_date_week <= current_date:\n",
        "      print(\"scanning on date:\", past_date_week)\n",
        "      variable = past_date_week.isoformat()\n",
        "      print(urllib.parse.quote(variable))\n",
        "      new_variable = urllib.parse.quote(variable)\n",
        "      URL = f\"https://api.data.gov.sg/v1/transport/traffic-images?date_time={new_variable}\"\n",
        "      URL_weather = f\"https://api.data.gov.sg/v1/environment/air-temperature?date_time={new_variable}\"\n",
        "      print(URL)\n",
        "      x = requests.get(URL)\n",
        "      y = requests.get(URL_weather)\n",
        "      todos = json.loads(x.text)\n",
        "      todos_weather = json.loads(y.text)\n",
        "      data = todos['items'][0]['cameras']\n",
        "      weather_data = todos_weather['items'][0]['readings']\n",
        "      timestamp = datetime.strptime(todos['items'][0]['timestamp'], \"%Y-%m-%dT%H:%M:%S%z\").strftime('%d-%m-%y %H:%M:%S')\n",
        "      for i in weather_data:\n",
        "        if i['station_id'] == station:\n",
        "          temp.append(i['value'])\n",
        "          print(\"Weather Temp:\", i['value'])\n",
        "      for i in data:\n",
        "        if i['location']['latitude'] == latitude and i['location']['longitude'] == longitude:\n",
        "          # Filename\n",
        "          url_image = i['image']\n",
        "          print(url_image)\n",
        "          image = url_to_image(url_image)\n",
        "          car, bus, truck, motorcycle = traffic_counter(image)\n",
        "          total = car + bus + truck\n",
        "          print('Image process completed')\n",
        "          new_row ={'Date': timestamp, 'Car': car, 'Bus': bus, \"Truck\": truck,\"Motorcycle\": motorcycle, 'Total': total}\n",
        "          df_historical = df_historical.append(new_row, ignore_index=True)\n",
        "          past_date_week += delta\n",
        "      print(\"Current Date, dataset processed\")\n",
        "      print(\"current Weather data\", temp)\n",
        "      df_historical['Temp'] = pd.Series(temp)\n",
        "  return df_historical "
      ],
      "metadata": {
        "id": "OzQmhEgR7HX0"
      },
      "execution_count": 38,
      "outputs": []
    },
    {
      "cell_type": "code",
      "source": [
        "# Data Generation for analytics\n",
        "\n",
        "station = 'S43'\n",
        "\n",
        "df_weather = data_generation_weather(current_date, days, interval, latitude, longitude, station)\n",
        "print(df_weather)"
      ],
      "metadata": {
        "id": "67kje_dxY-Jd"
      },
      "execution_count": null,
      "outputs": []
    },
    {
      "cell_type": "code",
      "source": [
        "#Creating new features from the weather components\n",
        "df_weather['Temp'].fillna(int(df_weather ['Temp'].mean()), inplace=True)\n",
        "df_3 = df_weather[['Date', 'Total', 'Temp']]\n",
        "df_3.Date = pd.to_datetime(df_3.Date)\n",
        "# day\n",
        "df_3['Day'] = df_3['Date'].dt.day\n",
        "# # month\n",
        "# df_3['Month'] = df_3['Date'].dt.month\n",
        "# # year\n",
        "# df_3['Year'] = df_3['Date'].dt.year\n",
        "# hour\n",
        "df_3['Hour'] = df_3['Date'].dt.hour\n",
        "# Monday is 0 and Sunday is 6\n",
        "df_3['Weekday'] = df_3['Date'].dt.weekday\n",
        "# week of the year\n",
        "df_3['WeekNo'] = df_3['Date'].dt.week\n",
        "\n",
        "df_3 = df_3.set_index(\"Date\")\n"
      ],
      "metadata": {
        "id": "DtJfxyUFc-ZB"
      },
      "execution_count": 45,
      "outputs": []
    },
    {
      "cell_type": "code",
      "source": [
        "print(df_3.shape) #(49, 6)"
      ],
      "metadata": {
        "colab": {
          "base_uri": "https://localhost:8080/"
        },
        "id": "PwZ7Bibc6Cll",
        "outputId": "60895338-8803-4f73-dff5-8acf56ab2a1a"
      },
      "execution_count": 46,
      "outputs": [
        {
          "output_type": "stream",
          "name": "stdout",
          "text": [
            "(337, 6)\n"
          ]
        }
      ]
    },
    {
      "cell_type": "code",
      "source": [
        "fig, axes = plt.subplots(nrows=3, ncols=2, dpi=120, figsize=(10,6))\n",
        "for i, ax in enumerate(axes.flatten()):\n",
        "    data = df_3[df_3.columns[i]]\n",
        "    ax.plot(data, color='red', linewidth=1)\n",
        "    # Decorations\n",
        "    ax.set_title(df_3.columns[i])\n",
        "    ax.xaxis.set_ticks_position('none')\n",
        "    ax.yaxis.set_ticks_position('none')\n",
        "    ax.spines[\"top\"].set_alpha(0)\n",
        "    ax.tick_params(labelsize=6)\n",
        "\n",
        "plt.tight_layout();\n"
      ],
      "metadata": {
        "colab": {
          "base_uri": "https://localhost:8080/",
          "height": 707
        },
        "id": "qrBy4Ji_zQPc",
        "outputId": "51d9485a-439c-4d6d-d2e7-3f1938712424"
      },
      "execution_count": 47,
      "outputs": [
        {
          "output_type": "display_data",
          "data": {
            "image/png": "[encoded data removed]",
            "text/plain": [
              "<Figure size 1200x720 with 6 Axes>"
            ]
          },
          "metadata": {
            "needs_background": "light"
          }
        }
      ]
    },
    {
      "cell_type": "markdown",
      "source": [
        "Stationary investigation"
      ],
      "metadata": {
        "id": "OgKWNDb2zaS3"
      }
    },
    {
      "cell_type": "code",
      "source": [
        "from statsmodels.tsa.stattools import grangercausalitytests, adfuller\n",
        "def adf_test(series,title=''):\n",
        "    \"\"\"\n",
        "    Pass in a time series and an optional title, returns an ADF report\n",
        "    \"\"\"\n",
        "    print(f'Augmented Dickey-Fuller Test: {title}')\n",
        "    result = adfuller(series.dropna(),autolag='AIC') # .dropna() handles differenced data\n",
        "    labels = ['ADF test statistic','p-value','# lags used','# observations']\n",
        "    out = pd.Series(result[0:4],index=labels)\n",
        "    for key,val in result[4].items():\n",
        "        out[f'critical value ({key})']=val\n",
        "    print(out.to_string())          # .to_string() removes the line \"dtype: float64\"\n",
        "    if result[1] <= 0.05:\n",
        "        print(\"Strong evidence against the null hypothesis\")\n",
        "        print(\"Reject the null hypothesis\")\n",
        "        print(\"Data has no unit root and is stationary\")\n",
        "    else:\n",
        "        print(\"Weak evidence against the null hypothesis\")\n",
        "        print(\"Fail to reject the null hypothesis\")\n",
        "        print(\"Data has a unit root and is non-stationary\")"
      ],
      "metadata": {
        "id": "VZcjpUxRGnMw"
      },
      "execution_count": 48,
      "outputs": []
    },
    {
      "cell_type": "code",
      "source": [
        "adf_test(df_3['Total'])\n",
        "print('\\n---------------------\\n')\n",
        "adf_test(df_3['Temp'])\n"
      ],
      "metadata": {
        "colab": {
          "base_uri": "https://localhost:8080/"
        },
        "id": "GI5PA5tFGtxb",
        "outputId": "b1cce85d-9286-4564-a8dc-dec9bd04eb28"
      },
      "execution_count": 49,
      "outputs": [
        {
          "output_type": "stream",
          "name": "stdout",
          "text": [
            "Augmented Dickey-Fuller Test: \n",
            "ADF test statistic       -5.484194\n",
            "p-value                   0.000002\n",
            "# lags used              14.000000\n",
            "# observations          322.000000\n",
            "critical value (1%)      -3.450823\n",
            "critical value (5%)      -2.870558\n",
            "critical value (10%)     -2.571575\n",
            "Strong evidence against the null hypothesis\n",
            "Reject the null hypothesis\n",
            "Data has no unit root and is stationary\n",
            "\n",
            "---------------------\n",
            "\n",
            "Augmented Dickey-Fuller Test: \n",
            "ADF test statistic     -6.724805e+00\n",
            "p-value                 3.410975e-09\n",
            "# lags used             1.100000e+01\n",
            "# observations          3.250000e+02\n",
            "critical value (1%)    -3.450632e+00\n",
            "critical value (5%)    -2.870474e+00\n",
            "critical value (10%)   -2.571530e+00\n",
            "Strong evidence against the null hypothesis\n",
            "Reject the null hypothesis\n",
            "Data has no unit root and is stationary\n"
          ]
        }
      ]
    },
    {
      "cell_type": "markdown",
      "source": [
        "This means that the data stationary and it needs to be converted into stationary format"
      ],
      "metadata": {
        "id": "MsK5autoHZ2w"
      }
    },
    {
      "cell_type": "code",
      "source": [
        "df_difference = df_3.diff()"
      ],
      "metadata": {
        "id": "Emxd2UXSHoks"
      },
      "execution_count": null,
      "outputs": []
    },
    {
      "cell_type": "code",
      "source": [
        "adf_test(df_difference['Total'])\n",
        "print('\\n---------------------\\n')\n",
        "adf_test(df_difference['Temp'])"
      ],
      "metadata": {
        "id": "ItsmFPUMHvl3"
      },
      "execution_count": null,
      "outputs": []
    },
    {
      "cell_type": "code",
      "source": [
        "df_difference_2 = df_difference.diff()"
      ],
      "metadata": {
        "id": "qG8skC51IC1t"
      },
      "execution_count": null,
      "outputs": []
    },
    {
      "cell_type": "code",
      "source": [
        "adf_test(df_difference_2['Total'])\n",
        "print('\\n---------------------\\n')\n",
        "adf_test(df_difference_2['Temp'])"
      ],
      "metadata": {
        "id": "JZm3gs3jIHp_"
      },
      "execution_count": null,
      "outputs": []
    },
    {
      "cell_type": "code",
      "source": [
        "print('Total causes Temp?\\n')\n",
        "print('------------------')\n",
        "granger_1 = grangercausalitytests(df_3[['Total', 'Temp']], 4)\n",
        "\n",
        "print('\\nTemp causes Total?\\n')\n",
        "print('------------------')\n",
        "granger_2 = grangercausalitytests(df_3[['Temp', 'Total']], 4)"
      ],
      "metadata": {
        "colab": {
          "base_uri": "https://localhost:8080/"
        },
        "id": "bvU8zE2KIZUw",
        "outputId": "dddac2c4-358f-4afc-be37-a3b19e323d74"
      },
      "execution_count": 50,
      "outputs": [
        {
          "output_type": "stream",
          "name": "stdout",
          "text": [
            "Total causes Temp?\n",
            "\n",
            "------------------\n",
            "\n",
            "Granger Causality\n",
            "number of lags (no zero) 1\n",
            "ssr based F test:         F=25.4345 , p=0.0000  , df_denom=333, df_num=1\n",
            "ssr based chi2 test:   chi2=25.6636 , p=0.0000  , df=1\n",
            "likelihood ratio test: chi2=24.7307 , p=0.0000  , df=1\n",
            "parameter F test:         F=25.4345 , p=0.0000  , df_denom=333, df_num=1\n",
            "\n",
            "Granger Causality\n",
            "number of lags (no zero) 2\n",
            "ssr based F test:         F=12.6250 , p=0.0000  , df_denom=330, df_num=2\n",
            "ssr based chi2 test:   chi2=25.6326 , p=0.0000  , df=2\n",
            "likelihood ratio test: chi2=24.6993 , p=0.0000  , df=2\n",
            "parameter F test:         F=12.6250 , p=0.0000  , df_denom=330, df_num=2\n",
            "\n",
            "Granger Causality\n",
            "number of lags (no zero) 3\n",
            "ssr based F test:         F=8.2181  , p=0.0000  , df_denom=327, df_num=3\n",
            "ssr based chi2 test:   chi2=25.1820 , p=0.0000  , df=3\n",
            "likelihood ratio test: chi2=24.2779 , p=0.0000  , df=3\n",
            "parameter F test:         F=8.2181  , p=0.0000  , df_denom=327, df_num=3\n",
            "\n",
            "Granger Causality\n",
            "number of lags (no zero) 4\n",
            "ssr based F test:         F=6.1776  , p=0.0001  , df_denom=324, df_num=4\n",
            "ssr based chi2 test:   chi2=25.3967 , p=0.0000  , df=4\n",
            "likelihood ratio test: chi2=24.4749 , p=0.0001  , df=4\n",
            "parameter F test:         F=6.1776  , p=0.0001  , df_denom=324, df_num=4\n",
            "\n",
            "Temp causes Total?\n",
            "\n",
            "------------------\n",
            "\n",
            "Granger Causality\n",
            "number of lags (no zero) 1\n",
            "ssr based F test:         F=6.8559  , p=0.0092  , df_denom=333, df_num=1\n",
            "ssr based chi2 test:   chi2=6.9176  , p=0.0085  , df=1\n",
            "likelihood ratio test: chi2=6.8474  , p=0.0089  , df=1\n",
            "parameter F test:         F=6.8559  , p=0.0092  , df_denom=333, df_num=1\n",
            "\n",
            "Granger Causality\n",
            "number of lags (no zero) 2\n",
            "ssr based F test:         F=8.7012  , p=0.0002  , df_denom=330, df_num=2\n",
            "ssr based chi2 test:   chi2=17.6661 , p=0.0001  , df=2\n",
            "likelihood ratio test: chi2=17.2160 , p=0.0002  , df=2\n",
            "parameter F test:         F=8.7012  , p=0.0002  , df_denom=330, df_num=2\n",
            "\n",
            "Granger Causality\n",
            "number of lags (no zero) 3\n",
            "ssr based F test:         F=6.8042  , p=0.0002  , df_denom=327, df_num=3\n",
            "ssr based chi2 test:   chi2=20.8494 , p=0.0001  , df=3\n",
            "likelihood ratio test: chi2=20.2245 , p=0.0002  , df=3\n",
            "parameter F test:         F=6.8042  , p=0.0002  , df_denom=327, df_num=3\n",
            "\n",
            "Granger Causality\n",
            "number of lags (no zero) 4\n",
            "ssr based F test:         F=4.3517  , p=0.0019  , df_denom=324, df_num=4\n",
            "ssr based chi2 test:   chi2=17.8904 , p=0.0013  , df=4\n",
            "likelihood ratio test: chi2=17.4263 , p=0.0016  , df=4\n",
            "parameter F test:         F=4.3517  , p=0.0019  , df_denom=324, df_num=4\n"
          ]
        }
      ]
    },
    {
      "cell_type": "code",
      "source": [
        "weather_data = df_3[['Total','Temp']]\n",
        "print(weather_data.shape)"
      ],
      "metadata": {
        "colab": {
          "base_uri": "https://localhost:8080/"
        },
        "id": "oCMsuj52JLfL",
        "outputId": "dcd67d2c-ed87-43e0-e188-14757bf144ed"
      },
      "execution_count": 51,
      "outputs": [
        {
          "output_type": "stream",
          "name": "stdout",
          "text": [
            "(337, 2)\n"
          ]
        }
      ]
    },
    {
      "cell_type": "code",
      "source": [
        "#using 3 hours in the future as test set hence 6 parts\n",
        "test_obs = 12\n",
        "train_df = weather_data[:-test_obs]\n",
        "test_df = weather_data[-test_obs:]"
      ],
      "metadata": {
        "id": "BH7bQiTmJcxt"
      },
      "execution_count": 65,
      "outputs": []
    },
    {
      "cell_type": "code",
      "source": [
        "df_3"
      ],
      "metadata": {
        "colab": {
          "base_uri": "https://localhost:8080/",
          "height": 455
        },
        "id": "H0f7LYb6h3cR",
        "outputId": "829801fc-49e6-41f6-a9ff-59cfb522eb87"
      },
      "execution_count": 63,
      "outputs": [
        {
          "output_type": "execute_result",
          "data": {
            "text/html": [
              "\n",
              "  <div id=\"df-2dc5fa79-bf98-4c0e-8c99-4a51fc4d22e8\">\n",
              "    <div class=\"colab-df-container\">\n",
              "      <div>\n",
              "<style scoped>\n",
              "    .dataframe tbody tr th:only-of-type {\n",
              "        vertical-align: middle;\n",
              "    }\n",
              "\n",
              "    .dataframe tbody tr th {\n",
              "        vertical-align: top;\n",
              "    }\n",
              "\n",
              "    .dataframe thead th {\n",
              "        text-align: right;\n",
              "    }\n",
              "</style>\n",
              "<table border=\"1\" class=\"dataframe\">\n",
              "  <thead>\n",
              "    <tr style=\"text-align: right;\">\n",
              "      <th></th>\n",
              "      <th>Total</th>\n",
              "      <th>Temp</th>\n",
              "      <th>Day</th>\n",
              "      <th>Hour</th>\n",
              "      <th>Weekday</th>\n",
              "      <th>WeekNo</th>\n",
              "    </tr>\n",
              "    <tr>\n",
              "      <th>Date</th>\n",
              "      <th></th>\n",
              "      <th></th>\n",
              "      <th></th>\n",
              "      <th></th>\n",
              "      <th></th>\n",
              "      <th></th>\n",
              "    </tr>\n",
              "  </thead>\n",
              "  <tbody>\n",
              "    <tr>\n",
              "      <th>2021-12-14 17:23:01</th>\n",
              "      <td>13</td>\n",
              "      <td>30.1</td>\n",
              "      <td>14</td>\n",
              "      <td>17</td>\n",
              "      <td>1</td>\n",
              "      <td>50</td>\n",
              "    </tr>\n",
              "    <tr>\n",
              "      <th>2021-12-14 17:53:02</th>\n",
              "      <td>11</td>\n",
              "      <td>30.2</td>\n",
              "      <td>14</td>\n",
              "      <td>17</td>\n",
              "      <td>1</td>\n",
              "      <td>50</td>\n",
              "    </tr>\n",
              "    <tr>\n",
              "      <th>2021-12-14 18:23:03</th>\n",
              "      <td>12</td>\n",
              "      <td>29.4</td>\n",
              "      <td>14</td>\n",
              "      <td>18</td>\n",
              "      <td>1</td>\n",
              "      <td>50</td>\n",
              "    </tr>\n",
              "    <tr>\n",
              "      <th>2021-12-14 18:53:04</th>\n",
              "      <td>11</td>\n",
              "      <td>29.2</td>\n",
              "      <td>14</td>\n",
              "      <td>18</td>\n",
              "      <td>1</td>\n",
              "      <td>50</td>\n",
              "    </tr>\n",
              "    <tr>\n",
              "      <th>2021-12-14 19:23:05</th>\n",
              "      <td>2</td>\n",
              "      <td>29.0</td>\n",
              "      <td>14</td>\n",
              "      <td>19</td>\n",
              "      <td>1</td>\n",
              "      <td>50</td>\n",
              "    </tr>\n",
              "    <tr>\n",
              "      <th>...</th>\n",
              "      <td>...</td>\n",
              "      <td>...</td>\n",
              "      <td>...</td>\n",
              "      <td>...</td>\n",
              "      <td>...</td>\n",
              "      <td>...</td>\n",
              "    </tr>\n",
              "    <tr>\n",
              "      <th>2021-12-21 15:23:13</th>\n",
              "      <td>8</td>\n",
              "      <td>27.0</td>\n",
              "      <td>21</td>\n",
              "      <td>15</td>\n",
              "      <td>1</td>\n",
              "      <td>51</td>\n",
              "    </tr>\n",
              "    <tr>\n",
              "      <th>2021-12-21 15:53:14</th>\n",
              "      <td>5</td>\n",
              "      <td>27.0</td>\n",
              "      <td>21</td>\n",
              "      <td>15</td>\n",
              "      <td>1</td>\n",
              "      <td>51</td>\n",
              "    </tr>\n",
              "    <tr>\n",
              "      <th>2021-12-21 16:23:15</th>\n",
              "      <td>10</td>\n",
              "      <td>27.0</td>\n",
              "      <td>21</td>\n",
              "      <td>16</td>\n",
              "      <td>1</td>\n",
              "      <td>51</td>\n",
              "    </tr>\n",
              "    <tr>\n",
              "      <th>2021-12-21 16:53:16</th>\n",
              "      <td>5</td>\n",
              "      <td>27.0</td>\n",
              "      <td>21</td>\n",
              "      <td>16</td>\n",
              "      <td>1</td>\n",
              "      <td>51</td>\n",
              "    </tr>\n",
              "    <tr>\n",
              "      <th>2021-12-21 17:23:17</th>\n",
              "      <td>9</td>\n",
              "      <td>27.0</td>\n",
              "      <td>21</td>\n",
              "      <td>17</td>\n",
              "      <td>1</td>\n",
              "      <td>51</td>\n",
              "    </tr>\n",
              "  </tbody>\n",
              "</table>\n",
              "<p>337 rows × 6 columns</p>\n",
              "</div>\n",
              "      <button class=\"colab-df-convert\" onclick=\"convertToInteractive('df-2dc5fa79-bf98-4c0e-8c99-4a51fc4d22e8')\"\n",
              "              title=\"Convert this dataframe to an interactive table.\"\n",
              "              style=\"display:none;\">\n",
              "        \n",
              "  <svg xmlns=\"http://www.w3.org/2000/svg\" height=\"24px\"viewBox=\"0 0 24 24\"\n",
              "       width=\"24px\">\n",
              "    <path d=\"M0 0h24v24H0V0z\" fill=\"none\"/>\n",
              "    <path d=\"M18.56 5.44l.94 2.06.94-2.06 2.06-.94-2.06-.94-.94-2.06-.94 2.06-2.06.94zm-11 1L8.5 8.5l.94-2.06 2.06-.94-2.06-.94L8.5 2.5l-.94 2.06-2.06.94zm10 10l.94 2.06.94-2.06 2.06-.94-2.06-.94-.94-2.06-.94 2.06-2.06.94z\"/><path d=\"M17.41 7.96l-1.37-1.37c-.4-.4-.92-.59-1.43-.59-.52 0-1.04.2-1.43.59L10.3 9.45l-7.72 7.72c-.78.78-.78 2.05 0 2.83L4 21.41c.39.39.9.59 1.41.59.51 0 1.02-.2 1.41-.59l7.78-7.78 2.81-2.81c.8-.78.8-2.07 0-2.86zM5.41 20L4 18.59l7.72-7.72 1.47 1.35L5.41 20z\"/>\n",
              "  </svg>\n",
              "      </button>\n",
              "      \n",
              "  <style>\n",
              "    .colab-df-container {\n",
              "      display:flex;\n",
              "      flex-wrap:wrap;\n",
              "      gap: 12px;\n",
              "    }\n",
              "\n",
              "    .colab-df-convert {\n",
              "      background-color: #E8F0FE;\n",
              "      border: none;\n",
              "      border-radius: 50%;\n",
              "      cursor: pointer;\n",
              "      display: none;\n",
              "      fill: #1967D2;\n",
              "      height: 32px;\n",
              "      padding: 0 0 0 0;\n",
              "      width: 32px;\n",
              "    }\n",
              "\n",
              "    .colab-df-convert:hover {\n",
              "      background-color: #E2EBFA;\n",
              "      box-shadow: 0px 1px 2px rgba(60, 64, 67, 0.3), 0px 1px 3px 1px rgba(60, 64, 67, 0.15);\n",
              "      fill: #174EA6;\n",
              "    }\n",
              "\n",
              "    [theme=dark] .colab-df-convert {\n",
              "      background-color: #3B4455;\n",
              "      fill: #D2E3FC;\n",
              "    }\n",
              "\n",
              "    [theme=dark] .colab-df-convert:hover {\n",
              "      background-color: #434B5C;\n",
              "      box-shadow: 0px 1px 3px 1px rgba(0, 0, 0, 0.15);\n",
              "      filter: drop-shadow(0px 1px 2px rgba(0, 0, 0, 0.3));\n",
              "      fill: #FFFFFF;\n",
              "    }\n",
              "  </style>\n",
              "\n",
              "      <script>\n",
              "        const buttonEl =\n",
              "          document.querySelector('#df-2dc5fa79-bf98-4c0e-8c99-4a51fc4d22e8 button.colab-df-convert');\n",
              "        buttonEl.style.display =\n",
              "          google.colab.kernel.accessAllowed ? 'block' : 'none';\n",
              "\n",
              "        async function convertToInteractive(key) {\n",
              "          const element = document.querySelector('#df-2dc5fa79-bf98-4c0e-8c99-4a51fc4d22e8');\n",
              "          const dataTable =\n",
              "            await google.colab.kernel.invokeFunction('convertToInteractive',\n",
              "                                                     [key], {});\n",
              "          if (!dataTable) return;\n",
              "\n",
              "          const docLinkHtml = 'Like what you see? Visit the ' +\n",
              "            '<a target=\"_blank\" href=https://colab.research.google.com/notebooks/data_table.ipynb>data table notebook</a>'\n",
              "            + ' to learn more about interactive tables.';\n",
              "          element.innerHTML = '';\n",
              "          dataTable['output_type'] = 'display_data';\n",
              "          await google.colab.output.renderOutput(dataTable, element);\n",
              "          const docLink = document.createElement('div');\n",
              "          docLink.innerHTML = docLinkHtml;\n",
              "          element.appendChild(docLink);\n",
              "        }\n",
              "      </script>\n",
              "    </div>\n",
              "  </div>\n",
              "  "
            ],
            "text/plain": [
              "                    Total  Temp  Day  Hour  Weekday  WeekNo\n",
              "Date                                                       \n",
              "2021-12-14 17:23:01    13  30.1   14    17        1      50\n",
              "2021-12-14 17:53:02    11  30.2   14    17        1      50\n",
              "2021-12-14 18:23:03    12  29.4   14    18        1      50\n",
              "2021-12-14 18:53:04    11  29.2   14    18        1      50\n",
              "2021-12-14 19:23:05     2  29.0   14    19        1      50\n",
              "...                   ...   ...  ...   ...      ...     ...\n",
              "2021-12-21 15:23:13     8  27.0   21    15        1      51\n",
              "2021-12-21 15:53:14     5  27.0   21    15        1      51\n",
              "2021-12-21 16:23:15    10  27.0   21    16        1      51\n",
              "2021-12-21 16:53:16     5  27.0   21    16        1      51\n",
              "2021-12-21 17:23:17     9  27.0   21    17        1      51\n",
              "\n",
              "[337 rows x 6 columns]"
            ]
          },
          "metadata": {},
          "execution_count": 63
        }
      ]
    },
    {
      "cell_type": "code",
      "source": [
        "from statsmodels.tsa.statespace.varmax import VARMAX\n",
        "from statsmodels.tsa.api import VAR"
      ],
      "metadata": {
        "id": "Ig25hlNbJk_O"
      },
      "execution_count": 66,
      "outputs": []
    },
    {
      "cell_type": "code",
      "source": [
        "model = VAR(train_df.astype(float).diff()[1:])"
      ],
      "metadata": {
        "id": "bfbbYRprKN-o"
      },
      "execution_count": 67,
      "outputs": []
    },
    {
      "cell_type": "code",
      "source": [
        "sorted_order=model.select_order(maxlags=20)\n",
        "print(sorted_order.summary())"
      ],
      "metadata": {
        "colab": {
          "base_uri": "https://localhost:8080/"
        },
        "id": "RIx4DvI_LsDj",
        "outputId": "ee33ab97-9237-42cc-8535-6b19af6fa21a"
      },
      "execution_count": 70,
      "outputs": [
        {
          "output_type": "stream",
          "name": "stdout",
          "text": [
            " VAR Order Selection (* highlights the minimums)  \n",
            "==================================================\n",
            "       AIC         BIC         FPE         HQIC   \n",
            "--------------------------------------------------\n",
            "0        1.263       1.287       3.536       1.273\n",
            "1        1.120      1.193*       3.064       1.149\n",
            "2        1.096       1.218       2.991      1.145*\n",
            "3        1.083       1.254       2.953       1.151\n",
            "4       1.073*       1.293      2.924*       1.161\n",
            "5        1.075       1.344       2.931       1.183\n",
            "6        1.093       1.411       2.982       1.220\n",
            "7        1.104       1.470       3.015       1.250\n",
            "8        1.110       1.526       3.034       1.276\n",
            "9        1.125       1.590       3.081       1.311\n",
            "10       1.128       1.642       3.091       1.334\n",
            "11       1.151       1.714       3.165       1.376\n",
            "12       1.129       1.741       3.096       1.374\n",
            "13       1.125       1.786       3.084       1.389\n",
            "14       1.126       1.835       3.085       1.409\n",
            "15       1.139       1.897       3.127       1.442\n",
            "16       1.143       1.950       3.142       1.466\n",
            "17       1.162       2.018       3.203       1.505\n",
            "18       1.172       2.077       3.237       1.534\n",
            "19       1.187       2.140       3.285       1.568\n",
            "20       1.204       2.206       3.343       1.605\n",
            "--------------------------------------------------\n"
          ]
        }
      ]
    },
    {
      "cell_type": "code",
      "source": [
        "train_df['Total'] = train_df['Total'].astype(float, errors = 'raise')\n",
        "train_df.info()"
      ],
      "metadata": {
        "colab": {
          "base_uri": "https://localhost:8080/"
        },
        "id": "8Kl0k5Hjjhr3",
        "outputId": "a58586af-6de0-41ee-cdad-06dafddc9a46"
      },
      "execution_count": 81,
      "outputs": [
        {
          "output_type": "stream",
          "name": "stdout",
          "text": [
            "<class 'pandas.core.frame.DataFrame'>\n",
            "DatetimeIndex: 325 entries, 2021-12-14 17:23:01 to 2021-12-21 11:23:06\n",
            "Data columns (total 2 columns):\n",
            " #   Column  Non-Null Count  Dtype  \n",
            "---  ------  --------------  -----  \n",
            " 0   Total   0 non-null      float64\n",
            " 1   Temp    325 non-null    float64\n",
            "dtypes: float64(2)\n",
            "memory usage: 7.6 KB\n"
          ]
        }
      ]
    },
    {
      "cell_type": "code",
      "source": [
        "print(test_df.shape)"
      ],
      "metadata": {
        "colab": {
          "base_uri": "https://localhost:8080/"
        },
        "id": "T-c90X2TlOoE",
        "outputId": "244e6897-2edf-4c38-b7a8-2e916f35e85a"
      },
      "execution_count": 82,
      "outputs": [
        {
          "output_type": "stream",
          "name": "stdout",
          "text": [
            "(12, 2)\n"
          ]
        }
      ]
    },
    {
      "cell_type": "code",
      "source": [
        "result = model.fit(4)\n",
        "result.summary()"
      ],
      "metadata": {
        "colab": {
          "base_uri": "https://localhost:8080/"
        },
        "id": "Tsqm6792lzjH",
        "outputId": "b824d24b-7f53-470f-b8a8-918bcdb7452c"
      },
      "execution_count": 88,
      "outputs": [
        {
          "output_type": "execute_result",
          "data": {
            "text/plain": [
              "  Summary of Regression Results   \n",
              "==================================\n",
              "Model:                         VAR\n",
              "Method:                        OLS\n",
              "Date:           Tue, 21, Dec, 2021\n",
              "Time:                     10:44:13\n",
              "--------------------------------------------------------------------\n",
              "No. of Equations:         2.00000    BIC:                    1.19537\n",
              "Nobs:                     320.000    HQIC:                   1.06805\n",
              "Log likelihood:          -1047.47    FPE:                    2.67362\n",
              "AIC:                     0.983403    Det(Omega_mle):         2.52934\n",
              "--------------------------------------------------------------------\n",
              "Results for equation Total\n",
              "===========================================================================\n",
              "              coefficient       std. error           t-stat            prob\n",
              "---------------------------------------------------------------------------\n",
              "const            0.034157         0.178745            0.191           0.848\n",
              "L1.Total        -0.440225         0.055989           -7.863           0.000\n",
              "L1.Temp          0.223526         0.363067            0.616           0.538\n",
              "L2.Total        -0.208333         0.061674           -3.378           0.001\n",
              "L2.Temp          0.982732         0.363393            2.704           0.007\n",
              "L3.Total        -0.155048         0.061488           -2.522           0.012\n",
              "L3.Temp          0.770253         0.366414            2.102           0.036\n",
              "L4.Total        -0.160730         0.056626           -2.838           0.005\n",
              "L4.Temp          0.430782         0.371518            1.160           0.246\n",
              "===========================================================================\n",
              "\n",
              "Results for equation Temp\n",
              "===========================================================================\n",
              "              coefficient       std. error           t-stat            prob\n",
              "---------------------------------------------------------------------------\n",
              "const            0.006524         0.027954            0.233           0.815\n",
              "L1.Total         0.007675         0.008756            0.877           0.381\n",
              "L1.Temp          0.080417         0.056780            1.416           0.157\n",
              "L2.Total        -0.004337         0.009645           -0.450           0.653\n",
              "L2.Temp          0.098174         0.056831            1.727           0.084\n",
              "L3.Total        -0.006373         0.009616           -0.663           0.508\n",
              "L3.Temp          0.161606         0.057304            2.820           0.005\n",
              "L4.Total        -0.001266         0.008856           -0.143           0.886\n",
              "L4.Temp          0.085824         0.058102            1.477           0.140\n",
              "===========================================================================\n",
              "\n",
              "Correlation matrix of residuals\n",
              "            Total      Temp\n",
              "Total    1.000000  0.094827\n",
              "Temp     0.094827  1.000000\n",
              "\n"
            ]
          },
          "metadata": {},
          "execution_count": 88
        }
      ]
    },
    {
      "cell_type": "code",
      "source": [
        "lagged_Values = train_df.values[-4:]"
      ],
      "metadata": {
        "id": "N9hhinCSl-px"
      },
      "execution_count": 89,
      "outputs": []
    },
    {
      "cell_type": "code",
      "source": [
        "pred = result.forecast(y=lagged_Values, steps=12) \n",
        "print(pred)\n",
        "# idx = pd.date_range(current_date periods=12)\n",
        "# df_forecast=pd.DataFrame(data=pred, index=idx, columns=['money_2d', 'spending_2d'])"
      ],
      "metadata": {
        "id": "wtRG-s8nmM4U"
      },
      "execution_count": null,
      "outputs": []
    },
    {
      "cell_type": "code",
      "source": [
        "var_model = VARMAX(train_df, order=(4,0),enforce_stationarity= True)\n",
        "print(var_model.endog_names)\n",
        "fitted_model = var_model.fit(disp=False)\n",
        "print(fitted_model.summary())"
      ],
      "metadata": {
        "id": "_vZp8c8yMUQ_"
      },
      "execution_count": null,
      "outputs": []
    },
    {
      "cell_type": "code",
      "source": [
        "n_forecast = 12\n",
        "predict = fitted_model.get_prediction(start=len(train_df),end=len(train_df) + n_forecast-1)#start=\"1989-07-01\",end='1999-01-01')\n",
        "\n",
        "predictions=predict.predicted_mean"
      ],
      "metadata": {
        "id": "orUQrMEKMw3u"
      },
      "execution_count": null,
      "outputs": []
    },
    {
      "cell_type": "code",
      "source": [
        "predictions.columns=['Total']\n",
        "predictions"
      ],
      "metadata": {
        "id": "P7VUhNPCM1TE"
      },
      "execution_count": null,
      "outputs": []
    },
    {
      "cell_type": "code",
      "source": [
        "test_vs_pred=pd.concat([test_df,predictions],axis=1)"
      ],
      "metadata": {
        "id": "ewpA7msSM8jY"
      },
      "execution_count": null,
      "outputs": []
    },
    {
      "cell_type": "code",
      "source": [
        "test_vs_pred.plot(figsize=(12,5))"
      ],
      "metadata": {
        "id": "XdgOg4l3M_Zb"
      },
      "execution_count": null,
      "outputs": []
    }
  ]
}